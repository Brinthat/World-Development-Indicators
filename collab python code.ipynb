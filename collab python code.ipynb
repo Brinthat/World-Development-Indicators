{
  "nbformat": 4,
  "nbformat_minor": 0,
  "metadata": {
    "colab": {
      "provenance": []
    },
    "kernelspec": {
      "name": "python3",
      "display_name": "Python 3"
    }
  },
  "cells": [
    {
      "cell_type": "markdown",
      "metadata": {
        "id": "Lx9-Fre4FMda"
      },
      "source": [
        "# **Machine Learning on Big Data (CN7030) CRWK 23-24 Term B [60% weighting]**\n",
        "# **Exploring World Development Indicators: Identifying relationship between Health Indicators using Linear Regression & Classification of Income Group based on Health Indicators using Logistic Regression.**\n",
        "# **Group ID: 16**\n",
        "1.   Student 1: Brintha Thirunavukkarasu and 2555470\n",
        "2.   Student 2: Samar Ahmed and 2596741"
      ]
    },
    {
      "cell_type": "markdown",
      "metadata": {
        "id": "GdMZR-9QTwG3"
      },
      "source": [
        "\n",
        "# **Initiate and Configure Spark**"
      ]
    },
    {
      "cell_type": "code",
      "metadata": {
        "id": "_z0p88Xtw_3-",
        "colab": {
          "base_uri": "https://localhost:8080/"
        },
        "outputId": "2dba1344-489f-4043-ac1d-95104c075c54"
      },
      "source": [
        "!pip3 install pyspark"
      ],
      "execution_count": 3,
      "outputs": [
        {
          "output_type": "stream",
          "name": "stdout",
          "text": [
            "Collecting pyspark\n",
            "  Downloading pyspark-3.5.1.tar.gz (317.0 MB)\n",
            "\u001b[2K     \u001b[90m━━━━━━━━━━━━━━━━━━━━━━━━━━━━━━━━━━━━━━━━\u001b[0m \u001b[32m317.0/317.0 MB\u001b[0m \u001b[31m4.1 MB/s\u001b[0m eta \u001b[36m0:00:00\u001b[0m\n",
            "\u001b[?25h  Preparing metadata (setup.py) ... \u001b[?25l\u001b[?25hdone\n",
            "Requirement already satisfied: py4j==0.10.9.7 in /usr/local/lib/python3.10/dist-packages (from pyspark) (0.10.9.7)\n",
            "Building wheels for collected packages: pyspark\n",
            "  Building wheel for pyspark (setup.py) ... \u001b[?25l\u001b[?25hdone\n",
            "  Created wheel for pyspark: filename=pyspark-3.5.1-py2.py3-none-any.whl size=317488491 sha256=4732fa1f1bca5d8109009ac9580bdedc46375179837d7e208a87623adeb15b27\n",
            "  Stored in directory: /root/.cache/pip/wheels/80/1d/60/2c256ed38dddce2fdd93be545214a63e02fbd8d74fb0b7f3a6\n",
            "Successfully built pyspark\n",
            "Installing collected packages: pyspark\n",
            "Successfully installed pyspark-3.5.1\n"
          ]
        }
      ]
    },
    {
      "cell_type": "code",
      "source": [
        "# import modules\n",
        "import pyspark\n",
        "from pyspark.sql import SparkSession\n",
        "from pyspark.sql.functions import when, col, udf, sum, avg, stddev, rand\n",
        "from pyspark.ml.feature import StringIndexer, VectorAssembler, StandardScaler, MinMaxScaler\n",
        "from pyspark.ml.regression import LinearRegression\n",
        "from pyspark.ml.evaluation import RegressionEvaluator\n",
        "from pyspark.sql.types import DoubleType\n",
        "from pyspark.ml.tuning import ParamGridBuilder, CrossValidator\n",
        "from pyspark.ml import Pipeline\n",
        "from pyspark.ml.evaluation import BinaryClassificationEvaluator\n",
        "import matplotlib.pyplot as plt\n",
        "import numpy as np\n",
        "import random"
      ],
      "metadata": {
        "id": "Kkd5WSkgpvIH"
      },
      "execution_count": 5,
      "outputs": []
    },
    {
      "cell_type": "code",
      "source": [
        "# Create spark session\n",
        "spark = SparkSession.builder \\\n",
        "                    .appName(\"project_df\") \\\n",
        "                    .master(\"local[*]\") \\\n",
        "                    .config(\"spark.executor.memory\", \"4g\") \\\n",
        "                    .config(\"spark.driver.memory\", \"2g\") \\\n",
        "                    .config(\"spark.executor.cores\", \"2\") \\\n",
        "                    .config(\"spark.sql.inMemoryColumnarStorage.compressed\", \"true\") \\\n",
        "                    .getOrCreate()"
      ],
      "metadata": {
        "id": "31iVDln6DCKa"
      },
      "execution_count": 4,
      "outputs": []
    },
    {
      "cell_type": "code",
      "source": [
        "from google.colab import drive\n",
        "drive.mount('/content/drive')"
      ],
      "metadata": {
        "colab": {
          "base_uri": "https://localhost:8080/"
        },
        "id": "7ut54RF8Dkna",
        "outputId": "0b9dfe9d-edfa-4d39-f70d-5536ac05fb0d"
      },
      "execution_count": 6,
      "outputs": [
        {
          "output_type": "stream",
          "name": "stdout",
          "text": [
            "Mounted at /content/drive\n"
          ]
        }
      ]
    },
    {
      "cell_type": "markdown",
      "metadata": {
        "id": "wHft1Jht1Qxl"
      },
      "source": [
        "---\n",
        "# **Task 1 - Data Loading and Preprocessing (15 marks)**\n",
        "---"
      ]
    },
    {
      "cell_type": "markdown",
      "source": [
        "Dataset : https://www.kaggle.com/datasets/kaggle/world-development-indicators \\\n",
        "Size: 387 MB (Compressed Zip file)\\\n",
        "1.90 GB (Uncompressed)"
      ],
      "metadata": {
        "id": "3hNxGDY0T0MJ"
      }
    },
    {
      "cell_type": "markdown",
      "source": [
        "# Student 1"
      ],
      "metadata": {
        "id": "07QxhwDbGStd"
      }
    },
    {
      "cell_type": "markdown",
      "source": [
        "**1.Introduction**\n",
        "\n",
        "The World Development Indicators (WDI) are a collection of timely, outstanding, and globally comparable information regarding the battle against poverty and global development. It is created by the World Bank and contains information on 1,600 indicators for 217 countries for more than 50 years, including infrastructure, the environment, health, education, and poverty (World Bank, 2024).\n"
      ],
      "metadata": {
        "id": "5rkeTe63qzyk"
      }
    },
    {
      "cell_type": "code",
      "metadata": {
        "id": "OcZfiIcq1Qxn",
        "colab": {
          "base_uri": "https://localhost:8080/"
        },
        "outputId": "5c42c336-0409-4df5-e747-7baf937d9ef2"
      },
      "source": [
        "indicators_df=spark.read.csv(\"/content/drive/MyDrive/NIndicators.csv\",inferSchema=True,header=True)\n",
        "indicators_df.show(5)"
      ],
      "execution_count": 102,
      "outputs": [
        {
          "output_type": "stream",
          "name": "stdout",
          "text": [
            "+-----------+-----------+--------------------+--------------+----+------------------+\n",
            "|CountryName|CountryCode|       IndicatorName| IndicatorCode|Year|             Value|\n",
            "+-----------+-----------+--------------------+--------------+----+------------------+\n",
            "| Arab World|        ARB|Adolescent fertil...|   SP.ADO.TFRT|1960|133.56090740552298|\n",
            "| Arab World|        ARB|Age dependency ra...|   SP.POP.DPND|1960|  87.7976011532547|\n",
            "| Arab World|        ARB|Age dependency ra...|SP.POP.DPND.OL|1960| 6.634579191565161|\n",
            "| Arab World|        ARB|Age dependency ra...|SP.POP.DPND.YG|1960| 81.02332950839141|\n",
            "| Arab World|        ARB|Arms exports (SIP...|MS.MIL.XPRT.KD|1960|         3000000.0|\n",
            "+-----------+-----------+--------------------+--------------+----+------------------+\n",
            "only showing top 5 rows\n",
            "\n"
          ]
        }
      ]
    },
    {
      "cell_type": "code",
      "source": [
        "indicators_df.count()"
      ],
      "metadata": {
        "id": "nNpQj1D-EM3c",
        "colab": {
          "base_uri": "https://localhost:8080/"
        },
        "outputId": "0e825547-1def-4842-9673-9134fcca93f0"
      },
      "execution_count": 103,
      "outputs": [
        {
          "output_type": "execute_result",
          "data": {
            "text/plain": [
              "5656458"
            ]
          },
          "metadata": {},
          "execution_count": 103
        }
      ]
    },
    {
      "cell_type": "code",
      "source": [
        "indicators_df.rdd.getNumPartitions()\n",
        "indicators_df = indicators_df.repartition(5)"
      ],
      "metadata": {
        "id": "q5xOqMHqhQKO"
      },
      "execution_count": 104,
      "outputs": []
    },
    {
      "cell_type": "markdown",
      "source": [
        "**2.Filter**\n",
        "\n",
        "Prioritising health indicators among the many that are available is important since health is a key component of sustainable development objectives for every country. Filtering indicator which is related with **Health: Nutrition** and **Health: Mortality**. List of indicator taken from other csv file.\n",
        "\n"
      ],
      "metadata": {
        "id": "J5h8YVhIMDWD"
      }
    },
    {
      "cell_type": "code",
      "source": [
        "series_df=spark.read.csv(\"/content/drive/MyDrive/Series.csv\",inferSchema=True,header=True)\n",
        "series_df.show(2)"
      ],
      "metadata": {
        "colab": {
          "base_uri": "https://localhost:8080/"
        },
        "id": "BrMNolBkpUTt",
        "outputId": "d575aa67-9c08-42df-c35e-5be6f6a43fd5"
      },
      "execution_count": 105,
      "outputs": [
        {
          "output_type": "stream",
          "name": "stdout",
          "text": [
            "+--------------------+--------------------+--------------------+---------------+--------------------+-------------+-----------+----------+----------+-----------------+------------------------+-----------------------+--------------------+--------------------+--------------------------------+--------------------+------------------+-------------+-----------------+-----------+\n",
            "|          SeriesCode|               Topic|       IndicatorName|ShortDefinition|      LongDefinition|UnitOfMeasure|Periodicity|BasePeriod|OtherNotes|AggregationMethod|LimitationsAndExceptions|NotesFromOriginalSource|     GeneralComments|              Source|StatisticalConceptAndMethodology|DevelopmentRelevance|RelatedSourceLinks|OtherWebLinks|RelatedIndicators|LicenseType|\n",
            "+--------------------+--------------------+--------------------+---------------+--------------------+-------------+-----------+----------+----------+-----------------+------------------------+-----------------------+--------------------+--------------------+--------------------------------+--------------------+------------------+-------------+-----------------+-----------+\n",
            "|      BN.KLT.DINV.CD|Economic Policy &...|Foreign direct in...|           NULL|Foreign direct in...|         NULL|     Annual|      NULL|      NULL|             NULL|                    NULL|                   NULL|Note: Data are ba...|International Mon...|                            NULL|                NULL|              NULL|         NULL|             NULL|       Open|\n",
            "|BX.KLT.DINV.WD.GD.ZS|Economic Policy &...|Foreign direct in...|           NULL|Foreign direct in...|         NULL|     Annual|      NULL|      NULL| Weighted average|    FDI data do not g...|                   NULL|                NULL|                NULL|                            NULL|                NULL|              NULL|         NULL|             NULL|       NULL|\n",
            "+--------------------+--------------------+--------------------+---------------+--------------------+-------------+-----------+----------+----------+-----------------+------------------------+-----------------------+--------------------+--------------------+--------------------------------+--------------------+------------------+-------------+-----------------+-----------+\n",
            "only showing top 2 rows\n",
            "\n"
          ]
        }
      ]
    },
    {
      "cell_type": "code",
      "source": [
        "series = series_df.filter((series_df[\"Topic\"]== 'Health: Nutrition') | (series_df[\"SeriesCode\"]== 'SP.DYN.IMRT.IN'))\n",
        "series.select(\"Topic\",'SeriesCode','IndicatorName').show(truncate=False)"
      ],
      "metadata": {
        "colab": {
          "base_uri": "https://localhost:8080/"
        },
        "id": "tgS5vkCOqPl-",
        "outputId": "f67e8b40-44ae-4daa-d8f7-ea178edbb6b2"
      },
      "execution_count": 106,
      "outputs": [
        {
          "output_type": "stream",
          "name": "stdout",
          "text": [
            "+-----------------+-----------------+-------------------------------------------------------------------------------+\n",
            "|Topic            |SeriesCode       |IndicatorName                                                                  |\n",
            "+-----------------+-----------------+-------------------------------------------------------------------------------+\n",
            "|Health: Mortality|SP.DYN.IMRT.IN   |Mortality rate, infant (per 1,000 live births)                                 |\n",
            "|Health: Nutrition|SN.ITK.SALT.ZS   |Consumption of iodized salt (% of households)                                  |\n",
            "|Health: Nutrition|SN.ITK.DFCT      |Depth of the food deficit (kilocalories per person per day)                    |\n",
            "|Health: Nutrition|SH.STA.BFED.ZS   |Exclusive breastfeeding (% of children under 6 months)                         |\n",
            "|Health: Nutrition|SH.STA.BRTW.ZS   |Low-birthweight babies (% of births)                                           |\n",
            "|Health: Nutrition|SH.ANM.CHLD.ZS   |Prevalence of anemia among children (% of children under 5)                    |\n",
            "|Health: Nutrition|SH.ANM.NPRG.ZS   |Prevalence of anemia among non-pregnant women (% of women ages 15-49)          |\n",
            "|Health: Nutrition|SH.PRG.ANEM      |Prevalence of anemia among pregnant women (%)                                  |\n",
            "|Health: Nutrition|SH.STA.OWGH.ZS   |Prevalence of overweight, weight for height (% of children under 5)            |\n",
            "|Health: Nutrition|SH.STA.OWGH.FE.ZS|Prevalence of overweight, weight for height, female (% of children under 5)    |\n",
            "|Health: Nutrition|SH.STA.OWGH.MA.ZS|Prevalence of overweight, weight for height, male (% of children under 5)      |\n",
            "|Health: Nutrition|SH.SVR.WAST.ZS   |Prevalence of severe wasting, weight for height (% of children under 5)        |\n",
            "|Health: Nutrition|SH.SVR.WAST.FE.ZS|Prevalence of severe wasting, weight for height, female (% of children under 5)|\n",
            "|Health: Nutrition|SH.SVR.WAST.MA.ZS|Prevalence of severe wasting, weight for height, male (% of children under 5)  |\n",
            "|Health: Nutrition|SH.STA.STNT.ZS   |Prevalence of stunting, height for age (% of children under 5)                 |\n",
            "|Health: Nutrition|SH.STA.STNT.FE.ZS|Prevalence of stunting, height for age, female (% of children under 5)         |\n",
            "|Health: Nutrition|SH.STA.STNT.MA.ZS|Prevalence of stunting, height for age, male (% of children under 5)           |\n",
            "|Health: Nutrition|SN.ITK.DEFC.ZS   |Prevalence of undernourishment (% of population)                               |\n",
            "|Health: Nutrition|SH.STA.MALN.ZS   |Prevalence of underweight, weight for age (% of children under 5)              |\n",
            "|Health: Nutrition|SH.STA.MALN.FE.ZS|Prevalence of underweight, weight for age, female (% of children under 5)      |\n",
            "+-----------------+-----------------+-------------------------------------------------------------------------------+\n",
            "only showing top 20 rows\n",
            "\n"
          ]
        }
      ]
    },
    {
      "cell_type": "markdown",
      "source": [
        "Choosing indicators only related to Infant."
      ],
      "metadata": {
        "id": "BXteyp5vragA"
      }
    },
    {
      "cell_type": "code",
      "source": [
        "indicators = ['SH.STA.BFED.ZS', 'SH.STA.BRTW.ZS', 'SH.ANM.CHLD.ZS', 'SH.STA.OWGH.ZS', 'SH.SVR.WAST.ZS', 'SH.STA.STNT.ZS','SN.ITK.DEFC.ZS', 'SH.STA.MALN.ZS',\n",
        "              'SH.STA.WAST.ZS', 'SN.ITK.VITA.ZS', 'SH.DTH.IMRT']\n",
        "final_df = indicators_df.filter(col(\"IndicatorCode\").isin(indicators))\n",
        "#Changing names for each indicator code\n",
        "old_values = ['SH.STA.BFED.ZS', 'SH.STA.BRTW.ZS', 'SH.ANM.CHLD.ZS', 'SH.STA.OWGH.ZS', 'SH.SVR.WAST.ZS', 'SH.STA.STNT.ZS', 'SN.ITK.DEFC.ZS', 'SH.STA.MALN.ZS',\n",
        "              'SH.STA.WAST.ZS', 'SN.ITK.VITA.ZS', 'SH.DTH.IMRT']\n",
        "new_values = [\"infant_feeding\", \"low_birthweight\", \"anemia\", \"overweight\",\"overwasting\",\"stunting\",\"undernourishment\", \"underweight\",\"wasting\",\"vitaminA_def\",\n",
        "              \"mortality\"]\n",
        "column_mapping = dict(zip(old_values, new_values))\n",
        "for old_value, new_value in column_mapping.items():\n",
        "    final_df = final_df.withColumn(\"IndicatorCode\", when(final_df[\"IndicatorCode\"] == old_value, new_value).otherwise(final_df[\"IndicatorCode\"]))"
      ],
      "metadata": {
        "id": "absKY6MVDwha"
      },
      "execution_count": 107,
      "outputs": []
    },
    {
      "cell_type": "code",
      "source": [
        "# final indicators\n",
        "unique = final_df.select(\"IndicatorCode\",\"IndicatorName\").distinct()\n",
        "unique.show(truncate = False)"
      ],
      "metadata": {
        "id": "CS1Pgg97859P",
        "colab": {
          "base_uri": "https://localhost:8080/"
        },
        "outputId": "58158de3-732d-4a22-9d90-bee6af084610"
      },
      "execution_count": 108,
      "outputs": [
        {
          "output_type": "stream",
          "name": "stdout",
          "text": [
            "+----------------+------------------------------------------------------------------------+\n",
            "|IndicatorCode   |IndicatorName                                                           |\n",
            "+----------------+------------------------------------------------------------------------+\n",
            "|vitaminA_def    |Vitamin A supplementation coverage rate (% of children ages 6-59 months)|\n",
            "|stunting        |Prevalence of stunting, height for age (% of children under 5)          |\n",
            "|undernourishment|Prevalence of undernourishment (% of population)                        |\n",
            "|infant_feeding  |Exclusive breastfeeding (% of children under 6 months)                  |\n",
            "|underweight     |Prevalence of underweight, weight for age (% of children under 5)       |\n",
            "|wasting         |Prevalence of wasting, weight for height (% of children under 5)        |\n",
            "|mortality       |Number of infant deaths                                                 |\n",
            "|overweight      |Prevalence of overweight, weight for height (% of children under 5)     |\n",
            "|low_birthweight |Low-birthweight babies (% of births)                                    |\n",
            "|anemia          |Prevalence of anemia among children (% of children under 5)             |\n",
            "|overwasting     |Prevalence of severe wasting, weight for height (% of children under 5) |\n",
            "+----------------+------------------------------------------------------------------------+\n",
            "\n"
          ]
        }
      ]
    },
    {
      "cell_type": "code",
      "source": [
        "#final count of rows\n",
        "final_df.count()"
      ],
      "metadata": {
        "id": "fiChPBBsEW_Y",
        "colab": {
          "base_uri": "https://localhost:8080/"
        },
        "outputId": "adf8c385-5897-463b-a8b6-f076719b7047"
      },
      "execution_count": 109,
      "outputs": [
        {
          "output_type": "execute_result",
          "data": {
            "text/plain": [
              "24138"
            ]
          },
          "metadata": {},
          "execution_count": 109
        }
      ]
    },
    {
      "cell_type": "markdown",
      "source": [
        "**3.Pivot Function**\n",
        "\n",
        "Using Pivot function, each indicator changed into new column with their indicator's value."
      ],
      "metadata": {
        "id": "rqj086zHovMu"
      }
    },
    {
      "cell_type": "code",
      "source": [
        "pivot_df = final_df.groupBy(\"CountryName\", \"Year\").pivot(\"IndicatorCode\").agg({\"Value\": \"first\"})\n",
        "# Handling missing value using drop\n",
        "final_data = pivot_df.na.drop(subset=[\"infant_feeding\", \"low_birthweight\", \"anemia\", \"overweight\",\"overwasting\",\"stunting\",\"undernourishment\",\n",
        "              \"underweight\",\"wasting\",\"vitaminA_def\",\"mortality\"])\n",
        "final_data.show(5)"
      ],
      "metadata": {
        "id": "a8xgi31-9TE9",
        "colab": {
          "base_uri": "https://localhost:8080/"
        },
        "outputId": "79ce6b91-ba59-423b-af25-2c8811896cf5"
      },
      "execution_count": 110,
      "outputs": [
        {
          "output_type": "stream",
          "name": "stdout",
          "text": [
            "+----------------+----+------+--------------+---------------+---------+------------------+------------------+----------------+----------------+----------------+------------+------------------+\n",
            "|     CountryName|Year|anemia|infant_feeding|low_birthweight|mortality|       overwasting|        overweight|        stunting|undernourishment|     underweight|vitaminA_def|           wasting|\n",
            "+----------------+----+------+--------------+---------------+---------+------------------+------------------+----------------+----------------+----------------+------------+------------------+\n",
            "|          Zambia|2007|  58.5|          60.9|           11.0|  32589.0|2.2999999523162797|  8.39999961853027|45.7999992370605|            52.2|14.8999996185303|        95.0| 5.599999904632571|\n",
            "|Korea, Dem. Rep.|2002|  33.4|          70.0|            6.7|  13053.0|               3.5|0.8999999761581421|44.7000007629395|            37.2|17.7999992370605|        99.0| 8.699999809265138|\n",
            "| Kyrgyz Republic|2006|  39.1|          32.0|            5.0|   3631.0|               1.0|  10.6999998092651|18.1000003814697|             9.4|2.70000004768372|        47.0|3.4000000953674303|\n",
            "|      Madagascar|2004|  61.8|          67.2|           17.3|  37263.0| 5.599999904632571| 6.199999809265139|52.7999992370605|            38.6|36.7999992370605|        89.0|  15.1999998092651|\n",
            "|          Guinea|1999|  80.8|          11.0|           12.1|  38223.0|               4.0|  4.30000019073486|34.2999992370605|            28.0|21.2000007629395|       100.0|  9.89999961853027|\n",
            "+----------------+----+------+--------------+---------------+---------+------------------+------------------+----------------+----------------+----------------+------------+------------------+\n",
            "only showing top 5 rows\n",
            "\n"
          ]
        }
      ]
    },
    {
      "cell_type": "code",
      "source": [
        "final_data.printSchema()"
      ],
      "metadata": {
        "id": "SB5hD_fiva0T",
        "colab": {
          "base_uri": "https://localhost:8080/"
        },
        "outputId": "07732584-7d10-4470-b7db-edcac511c98d"
      },
      "execution_count": 111,
      "outputs": [
        {
          "output_type": "stream",
          "name": "stdout",
          "text": [
            "root\n",
            " |-- CountryName: string (nullable = true)\n",
            " |-- Year: integer (nullable = true)\n",
            " |-- anemia: double (nullable = true)\n",
            " |-- infant_feeding: double (nullable = true)\n",
            " |-- low_birthweight: double (nullable = true)\n",
            " |-- mortality: double (nullable = true)\n",
            " |-- overwasting: double (nullable = true)\n",
            " |-- overweight: double (nullable = true)\n",
            " |-- stunting: double (nullable = true)\n",
            " |-- undernourishment: double (nullable = true)\n",
            " |-- underweight: double (nullable = true)\n",
            " |-- vitaminA_def: double (nullable = true)\n",
            " |-- wasting: double (nullable = true)\n",
            "\n"
          ]
        }
      ]
    },
    {
      "cell_type": "markdown",
      "source": [
        "**4.VectorAssembler** -Feature Engineering technique to keep all the features and label in vectorized format.\n"
      ],
      "metadata": {
        "id": "1h0h-J9PIyjK"
      }
    },
    {
      "cell_type": "code",
      "source": [
        "assembler = VectorAssembler(inputCols = [\"infant_feeding\", \"low_birthweight\", \"anemia\", \"overweight\",\"overwasting\",\"stunting\",\"undernourishment\",\n",
        "              \"underweight\",\"wasting\",\"vitaminA_def\"],outputCol = 'features')\n",
        "data = assembler.transform(final_data)\n",
        "assembler = VectorAssembler(inputCols = [\"mortality\"], outputCol = 'mortality_value')\n",
        "data = assembler.transform(data)\n",
        "data.select(\"features\",'mortality_value').show(5,truncate=False)"
      ],
      "metadata": {
        "id": "Kg1pwVv3D6cm",
        "colab": {
          "base_uri": "https://localhost:8080/"
        },
        "outputId": "ab45d81d-2909-44f5-f03e-d1ef5d982ac6"
      },
      "execution_count": 112,
      "outputs": [
        {
          "output_type": "stream",
          "name": "stdout",
          "text": [
            "+------------------------------------------------------------------------------------------------------------------+---------------+\n",
            "|features                                                                                                          |mortality_value|\n",
            "+------------------------------------------------------------------------------------------------------------------+---------------+\n",
            "|[60.9,11.0,58.5,8.39999961853027,2.2999999523162797,45.7999992370605,52.2,14.8999996185303,5.599999904632571,95.0]|[32589.0]      |\n",
            "|[70.0,6.7,33.4,0.8999999761581421,3.5,44.7000007629395,37.2,17.7999992370605,8.699999809265138,99.0]              |[13053.0]      |\n",
            "|[32.0,5.0,39.1,10.6999998092651,1.0,18.1000003814697,9.4,2.70000004768372,3.4000000953674303,47.0]                |[3631.0]       |\n",
            "|[67.2,17.3,61.8,6.199999809265139,5.599999904632571,52.7999992370605,38.6,36.7999992370605,15.1999998092651,89.0] |[37263.0]      |\n",
            "|[11.0,12.1,80.8,4.30000019073486,4.0,34.2999992370605,28.0,21.2000007629395,9.89999961853027,100.0]               |[38223.0]      |\n",
            "+------------------------------------------------------------------------------------------------------------------+---------------+\n",
            "only showing top 5 rows\n",
            "\n"
          ]
        }
      ]
    },
    {
      "cell_type": "markdown",
      "source": [
        "**5.Data Normalization**\n",
        "\n",
        "**Min-Max scaling** is used to normalise the input features. These features are converted into the range [0,1], which indicates that a feature minimum and maximum values will be 0 and 1.\n"
      ],
      "metadata": {
        "id": "2DbY8bP_sp6G"
      }
    },
    {
      "cell_type": "code",
      "source": [
        "scaler = MinMaxScaler(inputCol=\"features\", outputCol=\"scaled_value\")\n",
        "scalerModel = scaler.fit(data)\n",
        "data = scalerModel.transform(data)\n",
        "scaler = MinMaxScaler(inputCol=\"mortality_value\", outputCol=\"mortality_final\")\n",
        "scalerModel = scaler.fit(data)\n",
        "data = scalerModel.transform(data)\n",
        "unlist = udf(lambda x: float(list(x)[0]), DoubleType())\n",
        "data = data.withColumn('mortality_final', unlist('mortality_final'))\n"
      ],
      "metadata": {
        "id": "vZF5zsWTsbC6"
      },
      "execution_count": 113,
      "outputs": []
    },
    {
      "cell_type": "code",
      "source": [
        "data.select('scaled_value','mortality_final').show(2,truncate=False)"
      ],
      "metadata": {
        "id": "hLfb3Y4IJBAp",
        "colab": {
          "base_uri": "https://localhost:8080/"
        },
        "outputId": "6a770f35-f98a-43b3-a1e2-8dcce1e89e5c"
      },
      "execution_count": 114,
      "outputs": [
        {
          "output_type": "stream",
          "name": "stdout",
          "text": [
            "+--------------------------------------------------------------------------------------------------------------------------------------------------------------------------------------+--------------------+\n",
            "|scaled_value                                                                                                                                                                          |mortality_final     |\n",
            "+--------------------------------------------------------------------------------------------------------------------------------------------------------------------------------------+--------------------+\n",
            "|[0.6842709529276693,0.20388349514563103,0.5312024353120244,0.38888886999067085,0.13375796183180175,0.7511013310710095,1.0,0.3027295182452072,0.19047618630882127,0.9500000000000001]  |0.058052658558846594|\n",
            "|[0.7887485648679678,0.06472491909385113,0.1491628614916286,0.010101009492861497,0.21019108775972725,0.7268722890782726,0.6822033898305085,0.37468980663134954,0.3134920555984653,0.99]|0.023158906248046424|\n",
            "+--------------------------------------------------------------------------------------------------------------------------------------------------------------------------------------+--------------------+\n",
            "only showing top 2 rows\n",
            "\n"
          ]
        }
      ]
    },
    {
      "cell_type": "markdown",
      "source": [
        "# Student 2"
      ],
      "metadata": {
        "id": "ND8sEDTsuDES"
      }
    },
    {
      "cell_type": "markdown",
      "source": [
        "**1.Introduction**\n",
        "\n",
        "Big datasets are increasingly used in academic research particularly in machine learning research for secondary purposes. The World Development Indicators (WDI)1 dataset by the World Bank (WB)2 is considered one of the most comprehensive data set available in the world in terms of quality and relevancy for international comparison about global development (World Bank, 2024). WDI is a cluster of many time series data about almost all countries in the world going back to more than 50 years. The WDI dataset is freely available by the WB and it can be downloaded in different format. And although countries spent massive efforts ensuring the reliability, completeness and comparability of the WDI data but still the data from many developing and least developing countries is not complete. There are several reasons for these issues regarding the data in these countries including lack of complete registers (e.g. birth and death registers), lack of proper documentation, conflict and war zones in these countries, etc.\n"
      ],
      "metadata": {
        "id": "b4SAi0akuDEb"
      }
    },
    {
      "cell_type": "code",
      "metadata": {
        "colab": {
          "base_uri": "https://localhost:8080/"
        },
        "outputId": "b2fc6b79-4dba-4d4a-cee3-d0ca2a38b45c",
        "id": "bLcZQpCLuDEc"
      },
      "source": [
        "# Load the compressed file as a text file\n",
        "df = spark.read.csv('/content/drive/MyDrive/NIndicators.csv', header = True)\n",
        "\n",
        "# Display the DataFrame\n",
        "df.show(5)\n",
        "\n",
        "# more info\n",
        "print(df.count())\n",
        "print(df.rdd.getNumPartitions())"
      ],
      "execution_count": 139,
      "outputs": [
        {
          "output_type": "stream",
          "name": "stdout",
          "text": [
            "+-----------+-----------+--------------------+--------------+----+------------------+\n",
            "|CountryName|CountryCode|       IndicatorName| IndicatorCode|Year|             Value|\n",
            "+-----------+-----------+--------------------+--------------+----+------------------+\n",
            "| Arab World|        ARB|Adolescent fertil...|   SP.ADO.TFRT|1960|133.56090740552298|\n",
            "| Arab World|        ARB|Age dependency ra...|   SP.POP.DPND|1960|  87.7976011532547|\n",
            "| Arab World|        ARB|Age dependency ra...|SP.POP.DPND.OL|1960| 6.634579191565161|\n",
            "| Arab World|        ARB|Age dependency ra...|SP.POP.DPND.YG|1960| 81.02332950839141|\n",
            "| Arab World|        ARB|Arms exports (SIP...|MS.MIL.XPRT.KD|1960|         3000000.0|\n",
            "+-----------+-----------+--------------------+--------------+----+------------------+\n",
            "only showing top 5 rows\n",
            "\n",
            "5656458\n",
            "5\n"
          ]
        }
      ]
    },
    {
      "cell_type": "markdown",
      "source": [
        "This dataset has 5656458 records has been partioning into 5, but we repartition it to 6 to parallel it."
      ],
      "metadata": {
        "id": "vI67ZADZ5BW7"
      }
    },
    {
      "cell_type": "markdown",
      "source": [
        "Show the data type in Columns"
      ],
      "metadata": {
        "id": "edquY4lp5e37"
      }
    },
    {
      "cell_type": "code",
      "source": [
        "df.printSchema()"
      ],
      "metadata": {
        "colab": {
          "base_uri": "https://localhost:8080/"
        },
        "id": "nRv3KjbQu7Bp",
        "outputId": "4783711a-39fe-460f-f25f-5ddfd9afd03d"
      },
      "execution_count": 140,
      "outputs": [
        {
          "output_type": "stream",
          "name": "stdout",
          "text": [
            "root\n",
            " |-- CountryName: string (nullable = true)\n",
            " |-- CountryCode: string (nullable = true)\n",
            " |-- IndicatorName: string (nullable = true)\n",
            " |-- IndicatorCode: string (nullable = true)\n",
            " |-- Year: string (nullable = true)\n",
            " |-- Value: string (nullable = true)\n",
            "\n"
          ]
        }
      ]
    },
    {
      "cell_type": "markdown",
      "source": [
        "repartition to make it in parallel"
      ],
      "metadata": {
        "id": "rRPMSWs3YmQr"
      }
    },
    {
      "cell_type": "code",
      "source": [
        "df2 = df.repartition(6)\n",
        "df2.rdd.getNumPartitions()"
      ],
      "metadata": {
        "colab": {
          "base_uri": "https://localhost:8080/"
        },
        "id": "YGKWNewmu95P",
        "outputId": "1819f1a4-f710-440c-ab4c-4e70a997809f"
      },
      "execution_count": 141,
      "outputs": [
        {
          "output_type": "execute_result",
          "data": {
            "text/plain": [
              "6"
            ]
          },
          "metadata": {},
          "execution_count": 141
        }
      ]
    },
    {
      "cell_type": "markdown",
      "source": [
        "**2.Filter**\n",
        "\n",
        "drop column Indicator name\n",
        "\n"
      ],
      "metadata": {
        "id": "dMpqD3ApuDEc"
      }
    },
    {
      "cell_type": "code",
      "source": [
        "# drop the column IndicatorName to avoid duplicate,will keep both CountryCode and CountryName to use it later\n",
        "df2 = df2.drop( \"IndicatorName\")\n",
        "df2.show(5)"
      ],
      "metadata": {
        "colab": {
          "base_uri": "https://localhost:8080/"
        },
        "id": "bbvJ7Jq3uDEc",
        "outputId": "e604b99d-29ba-45de-f8fc-6f5d7e702fe6"
      },
      "execution_count": 142,
      "outputs": [
        {
          "output_type": "stream",
          "name": "stdout",
          "text": [
            "+-----------+-----------+-----------------+----+-----------+\n",
            "|CountryName|CountryCode|    IndicatorCode|Year|      Value|\n",
            "+-----------+-----------+-----------------+----+-----------+\n",
            "|    Tunisia|        TUN|   DT.TDS.MLAT.CD|1973|  8632000.0|\n",
            "|  Indonesia|        IDN|   DT.NTR.MIDA.CD|1978| 25934000.0|\n",
            "|     Uganda|        UGA|   DT.NFL.DSTC.CD|1977|        0.0|\n",
            "|       Peru|        PER|SE.SEC.ENRL.TC.ZS|1977|   27.54538|\n",
            "|     Kuwait|        KWT|   NE.CON.TOTL.CN|1965|297000000.0|\n",
            "+-----------+-----------+-----------------+----+-----------+\n",
            "only showing top 5 rows\n",
            "\n"
          ]
        }
      ]
    },
    {
      "cell_type": "markdown",
      "source": [
        "show  the dataset randomly"
      ],
      "metadata": {
        "id": "P46sYCg2rX3Y"
      }
    },
    {
      "cell_type": "code",
      "source": [
        "from pyspark.sql.functions import rand\n",
        "indicators_df\n",
        "df2.orderBy(rand()).show(10,False)"
      ],
      "metadata": {
        "colab": {
          "base_uri": "https://localhost:8080/"
        },
        "id": "NNl_BZg-uDEc",
        "outputId": "4e1a6d5d-9692-4ce7-9f74-f9c2f18268f6"
      },
      "execution_count": 143,
      "outputs": [
        {
          "output_type": "stream",
          "name": "stdout",
          "text": [
            "+------------------+-----------+-----------------+----+------------------+\n",
            "|CountryName       |CountryCode|IndicatorCode    |Year|Value             |\n",
            "+------------------+-----------+-----------------+----+------------------+\n",
            "|Russian Federation|RUS        |SH.PRG.ANEM      |2006|24.4              |\n",
            "|Guinea            |GIN        |SH.STA.WAST.ZS   |2007|8.300000190734862 |\n",
            "|Gabon             |GAB        |DT.NTR.DLXF.CD   |2004|-76804000.0       |\n",
            "|Guatemala         |GTM        |DT.DIS.PNGC.CD   |2004|167383000.0       |\n",
            "|Other small states|OSS        |SP.DYN.LE00.MA.IN|1995|56.884120843574706|\n",
            "|Other small states|OSS        |NY.ADJ.DFOR.GN.ZS|1980|1.3684834900020701|\n",
            "|Mongolia          |MNG        |SE.PRM.UNER.MA   |1999|13311.0           |\n",
            "|Namibia           |NAM        |NE.CON.PETC.ZS   |1989|60.028392534239906|\n",
            "|Vietnam           |VNM        |TX.VAL.MRCH.R3.ZS|2002|0.845798839944691 |\n",
            "|Philippines       |PHL        |NE.CON.PRVT.KD   |1998|55320496533.873   |\n",
            "+------------------+-----------+-----------------+----+------------------+\n",
            "only showing top 10 rows\n",
            "\n"
          ]
        }
      ]
    },
    {
      "cell_type": "markdown",
      "source": [
        "count How many countries in the Dataset"
      ],
      "metadata": {
        "id": "PMMpOaOfrj4h"
      }
    },
    {
      "cell_type": "code",
      "source": [
        "df2.select('CountryCode').distinct().count()"
      ],
      "metadata": {
        "colab": {
          "base_uri": "https://localhost:8080/"
        },
        "id": "NeYWYJAowQhm",
        "outputId": "92139d18-ce73-4952-c9f0-9fd6fafdde75"
      },
      "execution_count": 144,
      "outputs": [
        {
          "output_type": "execute_result",
          "data": {
            "text/plain": [
              "247"
            ]
          },
          "metadata": {},
          "execution_count": 144
        }
      ]
    },
    {
      "cell_type": "markdown",
      "source": [
        "now group and count the data in Order by couning\n"
      ],
      "metadata": {
        "id": "hr2CZ860wSs-"
      }
    },
    {
      "cell_type": "code",
      "source": [
        "df2.groupBy('CountryCode').count().orderBy('count').show(10,False)"
      ],
      "metadata": {
        "colab": {
          "base_uri": "https://localhost:8080/"
        },
        "id": "JpUiVCEUwVY1",
        "outputId": "b017850e-61db-41f1-d90b-b982815704ec"
      },
      "execution_count": 145,
      "outputs": [
        {
          "output_type": "stream",
          "name": "stdout",
          "text": [
            "+-----------+-----+\n",
            "|CountryCode|count|\n",
            "+-----------+-----+\n",
            "|MAF        |572  |\n",
            "|SXM        |681  |\n",
            "|CUW        |1564 |\n",
            "|IMY        |1764 |\n",
            "|MNP        |1942 |\n",
            "|CHI        |2739 |\n",
            "|ASM        |2802 |\n",
            "|TCA        |2840 |\n",
            "|SSD        |3667 |\n",
            "|MCO        |3881 |\n",
            "+-----------+-----+\n",
            "only showing top 10 rows\n",
            "\n"
          ]
        }
      ]
    },
    {
      "cell_type": "markdown",
      "source": [
        "how many rows for Indicators"
      ],
      "metadata": {
        "id": "f_LpjMM518zi"
      }
    },
    {
      "cell_type": "code",
      "source": [
        "df2.select('IndicatorCode').distinct().count()"
      ],
      "metadata": {
        "colab": {
          "base_uri": "https://localhost:8080/"
        },
        "id": "Kc_5Q-hj2A0p",
        "outputId": "d26a1076-4ec1-4552-8108-fd42c3be3b76"
      },
      "execution_count": 146,
      "outputs": [
        {
          "output_type": "execute_result",
          "data": {
            "text/plain": [
              "1344"
            ]
          },
          "metadata": {},
          "execution_count": 146
        }
      ]
    },
    {
      "cell_type": "markdown",
      "source": [
        "join the two tables together,as we need the IncomeGroup from other Table.\n",
        "both table has Countrycode column so we can join them."
      ],
      "metadata": {
        "id": "HaxdNJLM2EwD"
      }
    },
    {
      "cell_type": "code",
      "source": [
        "df3=spark.read.csv(\"/content/drive/MyDrive/Country.csv\",inferSchema = True, header = True)\n",
        "df3.show(5)"
      ],
      "metadata": {
        "colab": {
          "base_uri": "https://localhost:8080/"
        },
        "id": "z4C36t5p2QKS",
        "outputId": "dbe0272e-f088-4b78-e646-98f215040b06"
      },
      "execution_count": 147,
      "outputs": [
        {
          "output_type": "stream",
          "name": "stdout",
          "text": [
            "+-----------+--------------+--------------+--------------------+----------+--------------+--------------------+--------------------+--------------------+-------+------------------------+-----------------------------+--------------------+---------------+-----------+------------------------+---------------------------+--------------------+----------------------------+---------------------------+--------------------+---------------------------+----------------------------+----------------------+---------------------+------------------------------------------+-------------------------+------------------------+--------------------+---------------+-------------------------+\n",
            "|CountryCode|     ShortName|     TableName|            LongName|Alpha2Code|  CurrencyUnit|        SpecialNotes|              Region|         IncomeGroup|Wb2Code|NationalAccountsBaseYear|NationalAccountsReferenceYear|   SnaPriceValuation|LendingCategory|OtherGroups|SystemOfNationalAccounts|AlternativeConversionFactor|       PppSurveyYear|BalanceOfPaymentsManualInUse|ExternalDebtReportingStatus|       SystemOfTrade|GovernmentAccountingConcept|ImfDataDisseminationStandard|LatestPopulationCensus|LatestHouseholdSurvey|SourceOfMostRecentIncomeAndExpenditureData|VitalRegistrationComplete|LatestAgriculturalCensus|LatestIndustrialData|LatestTradeData|LatestWaterWithdrawalData|\n",
            "+-----------+--------------+--------------+--------------------+----------+--------------+--------------------+--------------------+--------------------+-------+------------------------+-----------------------------+--------------------+---------------+-----------+------------------------+---------------------------+--------------------+----------------------------+---------------------------+--------------------+---------------------------+----------------------------+----------------------+---------------------+------------------------------------------+-------------------------+------------------------+--------------------+---------------+-------------------------+\n",
            "|        AFG|   Afghanistan|   Afghanistan|Islamic State of ...|        AF|Afghan afghani|Fiscal year end: ...|          South Asia|          Low income|     AF|                 2002/03|                         NULL|Value added at ba...|            IDA|       HIPC|    Country uses the ...|                       NULL|                NULL|                        NULL|                     Actual|General trade system|       Consolidated cent...|        General Data Diss...|                  1979| Multiple Indicato...|                      Integrated househ...|                     NULL|                 2013/14|                NULL|         2013.0|                   2000.0|\n",
            "|        ALB|       Albania|       Albania| Republic of Albania|        AL|  Albanian lek|                NULL|Europe & Central ...| Upper middle income|     AL|    Original chained ...|                         1996|Value added at ba...|           IBRD|       NULL|    Country uses the ...|                       NULL|             Rolling|        IMF Balance of Pa...|                     Actual|General trade system|       Budgetary central...|        General Data Diss...|                  2011| Demographic and H...|                      Living Standards ...|                      Yes|                    2012|              2011.0|         2013.0|                   2006.0|\n",
            "|        DZA|       Algeria|       Algeria|People's Democrat...|        DZ|Algerian dinar|                NULL|Middle East & Nor...| Upper middle income|     DZ|                    1980|                         NULL|Value added at ba...|           IBRD|       NULL|    Country uses the ...|                       NULL|                2011|        IMF Balance of Pa...|                     Actual|Special trade system|       Budgetary central...|        General Data Diss...|                  2008| Multiple Indicato...|                      Integrated househ...|                     NULL|                    NULL|              2010.0|         2013.0|                   2001.0|\n",
            "|        ASM|American Samoa|American Samoa|      American Samoa|        AS|   U.S. dollar|                NULL| East Asia & Pacific| Upper middle income|     AS|                    NULL|                         NULL|                NULL|           NULL|       NULL|    Country uses the ...|                       NULL|2011 (household c...|                        NULL|                       NULL|Special trade system|                       NULL|                        NULL|                  2010|                 NULL|                                      NULL|                      Yes|                    2007|                NULL|           NULL|                     NULL|\n",
            "|        ADO|       Andorra|       Andorra|Principality of A...|        AD|          Euro|                NULL|Europe & Central ...|High income: nonOECD|     AD|                    2000|                         NULL|Value added at ba...|           NULL|       NULL|    Country uses the ...|                       NULL|                NULL|                        NULL|                       NULL|Special trade system|                       NULL|                        NULL|  2011. Population ...|                 NULL|                                      NULL|                      Yes|                    NULL|                NULL|         2006.0|                     NULL|\n",
            "+-----------+--------------+--------------+--------------------+----------+--------------+--------------------+--------------------+--------------------+-------+------------------------+-----------------------------+--------------------+---------------+-----------+------------------------+---------------------------+--------------------+----------------------------+---------------------------+--------------------+---------------------------+----------------------------+----------------------+---------------------+------------------------------------------+-------------------------+------------------------+--------------------+---------------+-------------------------+\n",
            "only showing top 5 rows\n",
            "\n"
          ]
        }
      ]
    },
    {
      "cell_type": "code",
      "source": [
        "df3 = df3.join(df2,df3 [\"CountryCode\"] ==df2 [\"CountryCode\"], \"inner\")\n",
        "df3 .show(5)"
      ],
      "metadata": {
        "colab": {
          "base_uri": "https://localhost:8080/"
        },
        "id": "HAbkCP0M2YwB",
        "outputId": "88bceb7f-7070-42eb-d133-741ae212af11"
      },
      "execution_count": 148,
      "outputs": [
        {
          "output_type": "stream",
          "name": "stdout",
          "text": [
            "+-----------+---------+---------+--------------------+----------+-----------------+--------------------+--------------------+--------------------+-------+------------------------+-----------------------------+--------------------+---------------+-----------+------------------------+---------------------------+-------------+----------------------------+---------------------------+--------------------+---------------------------+----------------------------+----------------------+---------------------+------------------------------------------+-------------------------+------------------------+--------------------+---------------+-------------------------+-----------+-----------+-----------------+----+-----------+\n",
            "|CountryCode|ShortName|TableName|            LongName|Alpha2Code|     CurrencyUnit|        SpecialNotes|              Region|         IncomeGroup|Wb2Code|NationalAccountsBaseYear|NationalAccountsReferenceYear|   SnaPriceValuation|LendingCategory|OtherGroups|SystemOfNationalAccounts|AlternativeConversionFactor|PppSurveyYear|BalanceOfPaymentsManualInUse|ExternalDebtReportingStatus|       SystemOfTrade|GovernmentAccountingConcept|ImfDataDisseminationStandard|LatestPopulationCensus|LatestHouseholdSurvey|SourceOfMostRecentIncomeAndExpenditureData|VitalRegistrationComplete|LatestAgriculturalCensus|LatestIndustrialData|LatestTradeData|LatestWaterWithdrawalData|CountryName|CountryCode|    IndicatorCode|Year|      Value|\n",
            "+-----------+---------+---------+--------------------+----------+-----------------+--------------------+--------------------+--------------------+-------+------------------------+-----------------------------+--------------------+---------------+-----------+------------------------+---------------------------+-------------+----------------------------+---------------------------+--------------------+---------------------------+----------------------------+----------------------+---------------------+------------------------------------------+-------------------------+------------------------+--------------------+---------------+-------------------------+-----------+-----------+-----------------+----+-----------+\n",
            "|        TUN|  Tunisia|  Tunisia| Republic of Tunisia|        TN|   Tunisian dinar|                NULL|Middle East & Nor...| Upper middle income|     TN|                    2010|                         NULL|Value added at ba...|           IBRD|       NULL|    Country uses the ...|                       NULL|         2011|        IMF Balance of Pa...|                     Actual|General trade system|       Consolidated cent...|        Special Data Diss...|                  2014| Multiple Indicato...|                      Integrated househ...|                     NULL|              2014/ 2015|              2010.0|         2013.0|                   2001.0|    Tunisia|        TUN|   DT.TDS.MLAT.CD|1973|  8632000.0|\n",
            "|        IDN|Indonesia|Indonesia|Republic of Indon...|        ID|Indonesian rupiah|Fiscal year end: ...| East Asia & Pacific| Lower middle income|     ID|                    2010|                         NULL|Value added at ba...|           IBRD|       NULL|    Country uses the ...|                       NULL|         2011|        IMF Balance of Pa...|                     Actual|Special trade system|       Budgetary central...|        Special Data Diss...|                  2010| Demographic and H...|                      Integrated househ...|                     NULL|                    2013|              2011.0|         2013.0|                   2000.0|  Indonesia|        IDN|   DT.NTR.MIDA.CD|1978| 25934000.0|\n",
            "|        UGA|   Uganda|   Uganda|  Republic of Uganda|        UG| Ugandan shilling|Fiscal year end: ...|  Sub-Saharan Africa|          Low income|     UG|                 2009/10|                         NULL|Value added at ba...|            IDA|       HIPC|    Country uses the ...|                       NULL|         2011|        IMF Balance of Pa...|                     Actual|General trade system|       Budgetary central...|        General Data Diss...|                  2014| Malaria Indicator...|                      Integrated househ...|                     NULL|              2008/ 2009|                NULL|         2013.0|                   2002.0|     Uganda|        UGA|   DT.NFL.DSTC.CD|1977|        0.0|\n",
            "|        PER|     Peru|     Peru|    Republic of Peru|        PE| Peruvian new sol|The new base year...|Latin America & C...| Upper middle income|     PE|                    2007|                         NULL|Value added at ba...|           IBRD|       NULL|    Country uses the ...|                    198590|         2011|        IMF Balance of Pa...|                     Actual|Special trade system|       Consolidated cent...|        Special Data Diss...|                  2007| Continuous Demogr...|                      Integrated househ...|                     NULL|                    2012|              2011.0|         2013.0|                   2008.0|       Peru|        PER|SE.SEC.ENRL.TC.ZS|1977|   27.54538|\n",
            "|        KWT|   Kuwait|   Kuwait|     State of Kuwait|        KW|    Kuwaiti dinar|Fiscal year end: ...|Middle East & Nor...|High income: nonOECD|     KW|                    2010|                         NULL|Value added at ba...|           NULL|       NULL|    Country uses the ...|                       NULL|         2011|        IMF Balance of Pa...|                       NULL|Special trade system|       Budgetary central...|        General Data Diss...|                  2011| Family Health Sur...|                                      NULL|                      Yes|                    NULL|              2011.0|         2013.0|                   2002.0|     Kuwait|        KWT|   NE.CON.TOTL.CN|1965|297000000.0|\n",
            "+-----------+---------+---------+--------------------+----------+-----------------+--------------------+--------------------+--------------------+-------+------------------------+-----------------------------+--------------------+---------------+-----------+------------------------+---------------------------+-------------+----------------------------+---------------------------+--------------------+---------------------------+----------------------------+----------------------+---------------------+------------------------------------------+-------------------------+------------------------+--------------------+---------------+-------------------------+-----------+-----------+-----------------+----+-----------+\n",
            "only showing top 5 rows\n",
            "\n"
          ]
        }
      ]
    },
    {
      "cell_type": "markdown",
      "source": [
        "we select only two specific indicators rows from Indicators Columns and convert them to columns themself in the next steps.\n",
        "SH.MMR.DTHS this code for indicator:Number of maternal deaths mortality.\n",
        "SH.PRG.ANEM this code for indicator:Prevalence of anemia among pregnant women."
      ],
      "metadata": {
        "id": "a1SiWVO428ZC"
      }
    },
    {
      "cell_type": "code",
      "source": [
        "#choose two specific indicators from the indicators column\n",
        "df3= df3.filter ((df3[\"IndicatorCode\"]== \"SH.PRG.ANEM\") | (df3[\"IndicatorCode\"]==\"SH.MMR.DTHS\"))"
      ],
      "metadata": {
        "id": "GsR-n4XL26MM"
      },
      "execution_count": 149,
      "outputs": []
    },
    {
      "cell_type": "code",
      "source": [
        "df3 = df3.select('CountryName','IndicatorCode','Value','IncomeGroup')\n",
        "df3.show(5)"
      ],
      "metadata": {
        "colab": {
          "base_uri": "https://localhost:8080/"
        },
        "id": "-Rj7lIC_3C5g",
        "outputId": "0b2811d3-7e62-440a-af6b-80a3c5f12211"
      },
      "execution_count": 150,
      "outputs": [
        {
          "output_type": "stream",
          "name": "stdout",
          "text": [
            "+-------------------+-------------+----------------+-------------------+\n",
            "|        CountryName|IndicatorCode|           Value|        IncomeGroup|\n",
            "+-------------------+-------------+----------------+-------------------+\n",
            "|Upper middle income|  SH.PRG.ANEM|34.6021072599038|               NULL|\n",
            "|            Lao PDR|  SH.MMR.DTHS|          1600.0|Lower middle income|\n",
            "|         Arab World|  SH.MMR.DTHS|         21000.0|               NULL|\n",
            "|          Indonesia|  SH.PRG.ANEM|            44.5|Lower middle income|\n",
            "|               Togo|  SH.MMR.DTHS|           910.0|         Low income|\n",
            "+-------------------+-------------+----------------+-------------------+\n",
            "only showing top 5 rows\n",
            "\n"
          ]
        }
      ]
    },
    {
      "cell_type": "code",
      "source": [
        "#see the type of data\n",
        "df3.printSchema()"
      ],
      "metadata": {
        "colab": {
          "base_uri": "https://localhost:8080/"
        },
        "id": "7S8d70053JMl",
        "outputId": "65594dca-ce1a-4763-a164-e79de3c66037"
      },
      "execution_count": 151,
      "outputs": [
        {
          "output_type": "stream",
          "name": "stdout",
          "text": [
            "root\n",
            " |-- CountryName: string (nullable = true)\n",
            " |-- IndicatorCode: string (nullable = true)\n",
            " |-- Value: string (nullable = true)\n",
            " |-- IncomeGroup: string (nullable = true)\n",
            "\n"
          ]
        }
      ]
    },
    {
      "cell_type": "markdown",
      "source": [
        "**3.Pivot Function**\n",
        "\n",
        "pivot the indicator to be columns keeping their values"
      ],
      "metadata": {
        "id": "a4r1OuCQuDEc"
      }
    },
    {
      "cell_type": "code",
      "source": [
        "pivot_data = df3.groupBy(\"CountryName\",\"IncomeGroup\").pivot(\"IndicatorCode\").agg({\"Value\": \"first\"})\n",
        "pivot_data.show(5)"
      ],
      "metadata": {
        "colab": {
          "base_uri": "https://localhost:8080/"
        },
        "id": "AQ7d_njyuDEd",
        "outputId": "2c3b7747-b471-40be-b756-85a4f6e2310b"
      },
      "execution_count": 152,
      "outputs": [
        {
          "output_type": "stream",
          "name": "stdout",
          "text": [
            "+-----------+--------------------+-----------+-----------+\n",
            "|CountryName|         IncomeGroup|SH.MMR.DTHS|SH.PRG.ANEM|\n",
            "+-----------+--------------------+-----------+-----------+\n",
            "|Afghanistan|          Low income|    10000.0|       49.1|\n",
            "|    Albania| Upper middle income|       49.0|       30.2|\n",
            "|    Algeria| Upper middle income|     1600.0|       40.5|\n",
            "|    Andorra|High income: nonOECD|       NULL|       24.7|\n",
            "|     Angola| Upper middle income|     7700.0|       57.1|\n",
            "+-----------+--------------------+-----------+-----------+\n",
            "only showing top 5 rows\n",
            "\n"
          ]
        }
      ]
    },
    {
      "cell_type": "code",
      "source": [
        "#rename the indicators\n",
        "df3=pivot_data.withColumnRenamed(\"SH.PRG.ANEM\",\"Anemiapre\")\\\n",
        "              .withColumnRenamed(\"SH.MMR.DTHS\",\"Matdeath\")\n",
        "df3.show()"
      ],
      "metadata": {
        "colab": {
          "base_uri": "https://localhost:8080/"
        },
        "id": "v_Xij-TtuDEd",
        "outputId": "26533334-b899-4b4b-c5de-15d06290a8bb"
      },
      "execution_count": 153,
      "outputs": [
        {
          "output_type": "stream",
          "name": "stdout",
          "text": [
            "+-------------------+--------------------+--------+----------------+\n",
            "|        CountryName|         IncomeGroup|Matdeath|       Anemiapre|\n",
            "+-------------------+--------------------+--------+----------------+\n",
            "|        Afghanistan|          Low income| 10000.0|            49.1|\n",
            "|            Albania| Upper middle income|    49.0|            30.2|\n",
            "|            Algeria| Upper middle income|  1600.0|            40.5|\n",
            "|            Andorra|High income: nonOECD|    NULL|            24.7|\n",
            "|             Angola| Upper middle income|  7700.0|            57.1|\n",
            "|Antigua and Barbuda|High income: nonOECD|    NULL|            36.7|\n",
            "|         Arab World|                NULL| 21000.0|39.9647282308997|\n",
            "|          Argentina|High income: nonOECD|   510.0|            36.0|\n",
            "|            Armenia| Lower middle income|    36.0|            24.9|\n",
            "|          Australia|   High income: OECD|    21.0|            23.5|\n",
            "|            Austria|   High income: OECD|     7.0|            24.5|\n",
            "|         Azerbaijan| Upper middle income|   160.0|            36.9|\n",
            "|       Bahamas, The|High income: nonOECD|     3.0|            38.7|\n",
            "|            Bahrain|High income: nonOECD|     4.0|            44.2|\n",
            "|         Bangladesh| Lower middle income| 21000.0|            53.5|\n",
            "|           Barbados|High income: nonOECD|     2.0|            37.7|\n",
            "|            Belarus| Upper middle income|    30.0|            29.7|\n",
            "|            Belgium|   High income: OECD|    11.0|            24.6|\n",
            "|             Belize| Upper middle income|     4.0|            36.1|\n",
            "|              Benin|          Low income|  1500.0|            68.4|\n",
            "+-------------------+--------------------+--------+----------------+\n",
            "only showing top 20 rows\n",
            "\n"
          ]
        }
      ]
    },
    {
      "cell_type": "code",
      "source": [
        "df3.select('IncomeGroup').distinct().show(30)"
      ],
      "metadata": {
        "colab": {
          "base_uri": "https://localhost:8080/"
        },
        "id": "xPlut7dd3UyO",
        "outputId": "fad0c3f9-8bab-4045-da97-4f972304f44a"
      },
      "execution_count": 154,
      "outputs": [
        {
          "output_type": "stream",
          "name": "stdout",
          "text": [
            "+--------------------+\n",
            "|         IncomeGroup|\n",
            "+--------------------+\n",
            "| Lower middle income|\n",
            "| but also for imp...|\n",
            "|   High income: OECD|\n",
            "| Upper middle income|\n",
            "|          Low income|\n",
            "|High income: nonOECD|\n",
            "|                NULL|\n",
            "+--------------------+\n",
            "\n"
          ]
        }
      ]
    },
    {
      "cell_type": "code",
      "source": [
        "#identify the Label by asighn the Binary classification\n",
        "from pyspark.sql.functions import when\n",
        "df3 = df3.withColumn(\"label\", when((df3[\"IncomeGroup\"] ==  'High income: OECD')|(df3[\"IncomeGroup\"] ==  'High income: nonOECD'), 0).otherwise(1))\n",
        "df3.select(\"label\").distinct().show()"
      ],
      "metadata": {
        "colab": {
          "base_uri": "https://localhost:8080/"
        },
        "id": "_jCTl5UQ3Y01",
        "outputId": "29c8fbb8-99a9-4c6c-f2a0-5cc3034bdfbb"
      },
      "execution_count": 155,
      "outputs": [
        {
          "output_type": "stream",
          "name": "stdout",
          "text": [
            "+-----+\n",
            "|label|\n",
            "+-----+\n",
            "|    1|\n",
            "|    0|\n",
            "+-----+\n",
            "\n"
          ]
        }
      ]
    },
    {
      "cell_type": "code",
      "source": [
        "df3.groupBy(\"label\").count().show()"
      ],
      "metadata": {
        "colab": {
          "base_uri": "https://localhost:8080/"
        },
        "id": "WV9_NdgD3dgE",
        "outputId": "0af965c1-d4ff-4704-8c1f-b5d7a46fa100"
      },
      "execution_count": 156,
      "outputs": [
        {
          "output_type": "stream",
          "name": "stdout",
          "text": [
            "+-----+-----+\n",
            "|label|count|\n",
            "+-----+-----+\n",
            "|    1|  164|\n",
            "|    0|   57|\n",
            "+-----+-----+\n",
            "\n"
          ]
        }
      ]
    },
    {
      "cell_type": "markdown",
      "source": [
        "it show 164 in class 1 and 57 in class 0"
      ],
      "metadata": {
        "id": "MWk6knIm3gMk"
      }
    },
    {
      "cell_type": "code",
      "source": [
        "#deal with missing value\n",
        "from pyspark.sql.functions import col, sum\n",
        "missing_values =df3.select([sum(col(c).isNull().cast(\"int\")).alias(c) for c in df3.columns])\n",
        "missing_values.show()\n"
      ],
      "metadata": {
        "colab": {
          "base_uri": "https://localhost:8080/"
        },
        "id": "0vVTbN293hX-",
        "outputId": "92b774c2-127e-48e9-ab5c-dc064edef2ee"
      },
      "execution_count": 157,
      "outputs": [
        {
          "output_type": "stream",
          "name": "stdout",
          "text": [
            "+-----------+-----------+--------+---------+-----+\n",
            "|CountryName|IncomeGroup|Matdeath|Anemiapre|label|\n",
            "+-----------+-----------+--------+---------+-----+\n",
            "|          0|         33|       5|        3|    0|\n",
            "+-----------+-----------+--------+---------+-----+\n",
            "\n"
          ]
        }
      ]
    },
    {
      "cell_type": "code",
      "source": [
        "#drop the missing raws in columns usinf dropna function\n",
        "Colum_to_ckeck=['Anemiapre','Matdeath']\n",
        "df3=df3.dropna(subset=Colum_to_ckeck)\n",
        "df3.count()"
      ],
      "metadata": {
        "colab": {
          "base_uri": "https://localhost:8080/"
        },
        "id": "EjqpuKOs3nMF",
        "outputId": "848d5d3a-e1a8-4776-b4c5-951864a3f8d9"
      },
      "execution_count": 158,
      "outputs": [
        {
          "output_type": "execute_result",
          "data": {
            "text/plain": [
              "213"
            ]
          },
          "metadata": {},
          "execution_count": 158
        }
      ]
    },
    {
      "cell_type": "markdown",
      "source": [
        "it show now 213 instances\\\n",
        "assess the linear separability of feature to check the curve and correlation between feature .will be good if there are no associate and the gap between class0 and 1 is big"
      ],
      "metadata": {
        "id": "qSGQIpeG3yz2"
      }
    },
    {
      "cell_type": "code",
      "source": [
        "from pyspark.sql.functions import avg, stddev\n",
        "# avg & std for class 0\n",
        "class_0_stats =df3.filter(df3['label'] == 0).select(avg('Matdeath').alias(\"Matdeath_0\"),\n",
        "                                                                    stddev('Matdeath').alias(\"Matdeath_0\")).first()\n",
        "\n",
        "# avg & std for class 1\n",
        "class_1_stats =  df3.filter(df3['label'] == 1).select(avg('Matdeath').alias(\"Matdeath_1\"),\n",
        "                                                                     stddev('Matdeath').alias(\"Matdeath_1\")).first()\n",
        "\n",
        "\n",
        "print(\"Class 0 distribution: \")\n",
        "print(\"AVG Matdeath: \", class_0_stats[\"Matdeath_0\"])\n",
        "print(\"STD Matdeath: \", class_0_stats[\"Matdeath_0\"])\n",
        "\n",
        "print(\"Class 1 distribution: \")\n",
        "print(\"AVG Matdeath: \", class_1_stats[\"Matdeath_1\"])\n",
        "print(\"STD Matdeath: \", class_1_stats[\"Matdeath_1\"])"
      ],
      "metadata": {
        "colab": {
          "base_uri": "https://localhost:8080/"
        },
        "id": "VpTysx6035ys",
        "outputId": "30bc0a9a-1ab7-4d07-800c-0bf6ed37314c"
      },
      "execution_count": 159,
      "outputs": [
        {
          "output_type": "stream",
          "name": "stdout",
          "text": [
            "Class 0 distribution: \n",
            "AVG Matdeath:  78.0\n",
            "STD Matdeath:  78.0\n",
            "Class 1 distribution: \n",
            "AVG Matdeath:  22385.7625\n",
            "STD Matdeath:  22385.7625\n"
          ]
        }
      ]
    },
    {
      "cell_type": "markdown",
      "source": [
        "asses for prevelance of Anemia column\n"
      ],
      "metadata": {
        "id": "jsfCawnL3-d6"
      }
    },
    {
      "cell_type": "code",
      "source": [
        "class_0_stats = df3.filter(df3['label'] == 0).select(avg('Anemiapre').alias(\"Anemiapre_0\"),\n",
        "                                                                    stddev('Anemiapre').alias(\"Anemiapre_0\")).first()\n",
        "\n",
        "# avg & std for class 1\n",
        "class_1_stats = df3.filter(df3['label'] == 1).select(avg('Anemiapre').alias(\"Anemiapre_1\"),\n",
        "                                                                    stddev('Anemiapre').alias(\"Anemiapre_1\")).first()\n",
        "\n",
        "\n",
        "print(\"Class 0 distribution: \")\n",
        "print(\"AVG Anemiapre: \", class_0_stats[\"Anemiapre_0\"])\n",
        "print(\"STD Anemiapre: \", class_0_stats[\"Anemiapre_0\"])\n",
        "\n",
        "print(\"Class 1 distribution: \")\n",
        "print(\"AVG Anemiapre: \", class_1_stats[\"Anemiapre_1\"])\n",
        "print(\"STD Anemiapre: \", class_1_stats[\"Anemiapre_1\"])"
      ],
      "metadata": {
        "colab": {
          "base_uri": "https://localhost:8080/"
        },
        "id": "XJaHecqr4BFn",
        "outputId": "1c6421a7-2655-41a4-d339-24e137f4a5d3"
      },
      "execution_count": 160,
      "outputs": [
        {
          "output_type": "stream",
          "name": "stdout",
          "text": [
            "Class 0 distribution: \n",
            "AVG Anemiapre:  30.13396226415095\n",
            "STD Anemiapre:  30.13396226415095\n",
            "Class 1 distribution: \n",
            "AVG Anemiapre:  42.363667965906046\n",
            "STD Anemiapre:  42.363667965906046\n"
          ]
        }
      ]
    },
    {
      "cell_type": "markdown",
      "source": [
        "change the datatype in the columns from string to double.prepare it for vector Assembler using col function from sql liberary and cast to double"
      ],
      "metadata": {
        "id": "0GL-F-mF4FVO"
      }
    },
    {
      "cell_type": "code",
      "source": [
        "\n",
        "for column in df3.columns:\n",
        "  df3 = df3.withColumn(column, col(column).cast(\"double\"))"
      ],
      "metadata": {
        "id": "HSQJPJci4F9j"
      },
      "execution_count": 161,
      "outputs": []
    },
    {
      "cell_type": "code",
      "source": [
        "#print Schema to check it works\n",
        "df3.printSchema()"
      ],
      "metadata": {
        "colab": {
          "base_uri": "https://localhost:8080/"
        },
        "id": "7cxXB25S4KWk",
        "outputId": "1418364c-049b-40a3-8e98-e59b3df6c407"
      },
      "execution_count": 162,
      "outputs": [
        {
          "output_type": "stream",
          "name": "stdout",
          "text": [
            "root\n",
            " |-- CountryName: double (nullable = true)\n",
            " |-- IncomeGroup: double (nullable = true)\n",
            " |-- Matdeath: double (nullable = true)\n",
            " |-- Anemiapre: double (nullable = true)\n",
            " |-- label: double (nullable = false)\n",
            "\n"
          ]
        }
      ]
    },
    {
      "cell_type": "markdown",
      "source": [
        "**4.VectorAssembler-**Vector assemler for combine feature into vector column vector assembler did not accept string we have to convert the data type by casted to double # then apply vector assemler\n",
        "\n"
      ],
      "metadata": {
        "id": "jaRu0yZsuDEd"
      }
    },
    {
      "cell_type": "code",
      "source": [
        "from pyspark.ml.feature import VectorAssembler\n",
        "assembler = VectorAssembler(inputCols = ['Anemiapre','Matdeath'],\n",
        "                            outputCol ='vector_features',handleInvalid='keep')\n",
        "data = assembler.transform(df3)"
      ],
      "metadata": {
        "id": "r-sVag7zuDEd"
      },
      "execution_count": 163,
      "outputs": []
    },
    {
      "cell_type": "code",
      "source": [
        "data  = data .select('vector_features', 'label')\n",
        "data.show(5, truncate = False)\n",
        "\n",
        "#Sparse Vectors"
      ],
      "metadata": {
        "colab": {
          "base_uri": "https://localhost:8080/"
        },
        "id": "c8a0YhgB4ctj",
        "outputId": "6e426f42-4f3b-410f-e332-2451448fa59b"
      },
      "execution_count": 164,
      "outputs": [
        {
          "output_type": "stream",
          "name": "stdout",
          "text": [
            "+--------------------------+-----+\n",
            "|vector_features           |label|\n",
            "+--------------------------+-----+\n",
            "|[49.1,10000.0]            |1.0  |\n",
            "|[30.2,49.0]               |1.0  |\n",
            "|[40.5,1600.0]             |1.0  |\n",
            "|[57.1,7700.0]             |1.0  |\n",
            "|[39.9647282308997,21000.0]|1.0  |\n",
            "+--------------------------+-----+\n",
            "only showing top 5 rows\n",
            "\n"
          ]
        }
      ]
    },
    {
      "cell_type": "markdown",
      "source": [
        "**5.Data Normalization**\n",
        "\n",
        "minimaxScaler scale the feature into one range between 1-0."
      ],
      "metadata": {
        "id": "t8JhwSwLuDEd"
      }
    },
    {
      "cell_type": "code",
      "source": [
        "from pyspark.ml.feature import MinMaxScaler\n",
        "MinMax_Scaler =MinMaxScaler(inputCol='vector_features',outputCol= \"features\")"
      ],
      "metadata": {
        "id": "x8sL9PFQuDEd"
      },
      "execution_count": 165,
      "outputs": []
    },
    {
      "cell_type": "code",
      "source": [
        "model= MinMax_Scaler.fit(data)\n",
        "data = model.transform(data)\n",
        "data.select(\"features\").show(5)"
      ],
      "metadata": {
        "colab": {
          "base_uri": "https://localhost:8080/"
        },
        "id": "38o1hdxKuDEd",
        "outputId": "51c88b1a-f21b-4f23-a732-8f1091e46f2d"
      },
      "execution_count": 166,
      "outputs": [
        {
          "output_type": "stream",
          "name": "stdout",
          "text": [
            "+--------------------+\n",
            "|            features|\n",
            "+--------------------+\n",
            "|[0.62736964221815...|\n",
            "|[0.26246219340587...|\n",
            "|[0.46132709937235...|\n",
            "|[0.78182782160959...|\n",
            "|[0.45099246150549...|\n",
            "+--------------------+\n",
            "only showing top 5 rows\n",
            "\n"
          ]
        }
      ]
    },
    {
      "cell_type": "markdown",
      "source": [
        "---\n",
        "# **Task 2 - Model Selection and Implementation (25 marks)**\n",
        "---\n"
      ],
      "metadata": {
        "id": "fI1FGRhluQIZ"
      }
    },
    {
      "cell_type": "markdown",
      "source": [
        "# Student 1"
      ],
      "metadata": {
        "id": "N_mtoyhSuIbg"
      }
    },
    {
      "cell_type": "markdown",
      "source": [
        "**Linear Regression**\n",
        "\n",
        "Linear Regression method is choosen to find the relationship between the infant nutrition based indicator and infant mortality rate."
      ],
      "metadata": {
        "id": "OhrAB18Nth_I"
      }
    },
    {
      "cell_type": "code",
      "metadata": {
        "id": "6oAJuyTBsRO-"
      },
      "source": [
        "train_data, test_data = data.randomSplit([0.8, 0.2], seed = 123)"
      ],
      "execution_count": 115,
      "outputs": []
    },
    {
      "cell_type": "code",
      "source": [
        "linear_reg = LinearRegression(labelCol = 'mortality_final', featuresCol = 'scaled_value', predictionCol = 'prediction')\n",
        "\n",
        "# Fit the model to the training data\n",
        "linear_model = linear_reg.fit(train_data)\n",
        "\n",
        "# Make prediction on the test data\n",
        "linear_predictions = linear_model.transform(test_data)"
      ],
      "metadata": {
        "id": "dNZlDHsuHbPH"
      },
      "execution_count": 116,
      "outputs": []
    },
    {
      "cell_type": "code",
      "source": [
        "linear_predictions.select(\"mortality_final\", \"prediction\").show(5)"
      ],
      "metadata": {
        "colab": {
          "base_uri": "https://localhost:8080/"
        },
        "id": "HNjEje6IxfGp",
        "outputId": "910432b1-c182-42c3-e069-34b4ba943aa8"
      },
      "execution_count": 135,
      "outputs": [
        {
          "output_type": "stream",
          "name": "stdout",
          "text": [
            "+--------------------+-------------------+\n",
            "|     mortality_final|         prediction|\n",
            "+--------------------+-------------------+\n",
            "| 0.04547654727606895|0.13836865273794938|\n",
            "| 0.08684679149304037|0.23082801058994012|\n",
            "|0.026581123151583133|0.08747312600857579|\n",
            "| 0.08337992144619029|0.15924481173159283|\n",
            "| 0.08949740208012202|0.18132614957546364|\n",
            "+--------------------+-------------------+\n",
            "only showing top 5 rows\n",
            "\n"
          ]
        }
      ]
    },
    {
      "cell_type": "markdown",
      "source": [
        "# Student 2"
      ],
      "metadata": {
        "id": "aS87VAs45Ikc"
      }
    },
    {
      "cell_type": "markdown",
      "source": [
        "**Logistic Regression**\n"
      ],
      "metadata": {
        "id": "_3-ubrgO5Ikj"
      }
    },
    {
      "cell_type": "code",
      "metadata": {
        "id": "4kOJdHj-5Ikj"
      },
      "source": [
        "#Split data for prepair the model to observe\n",
        "train_data, test_data = data .randomSplit([0.8, 0.2], seed = 1234)"
      ],
      "execution_count": 167,
      "outputs": []
    },
    {
      "cell_type": "code",
      "source": [
        "#Apply Logistic Regression model and set the Parameter\n",
        "from pyspark.ml.classification import LogisticRegression\n",
        "lr = LogisticRegression(featuresCol = \"features\", labelCol = 'label', threshold = 0.5, regParam = 0.01)\n",
        "lr_model = lr.fit(train_data)\n",
        "lr_predictions_train = lr_model.transform(train_data)\n",
        "lr_predictions_test = lr_model.transform(test_data)"
      ],
      "metadata": {
        "id": "H5dL6x7s5Ikj"
      },
      "execution_count": 169,
      "outputs": []
    },
    {
      "cell_type": "code",
      "source": [
        "lr_predictions_test.select(\"label\", \"prediction\").show(10)"
      ],
      "metadata": {
        "colab": {
          "base_uri": "https://localhost:8080/"
        },
        "id": "apLAvXNz6FTC",
        "outputId": "b85a5527-d551-4986-97bd-9b1995ae14dc"
      },
      "execution_count": 170,
      "outputs": [
        {
          "output_type": "stream",
          "name": "stdout",
          "text": [
            "+-----+----------+\n",
            "|label|prediction|\n",
            "+-----+----------+\n",
            "|  0.0|       0.0|\n",
            "|  1.0|       0.0|\n",
            "|  1.0|       0.0|\n",
            "|  0.0|       0.0|\n",
            "|  0.0|       0.0|\n",
            "|  0.0|       0.0|\n",
            "|  1.0|       0.0|\n",
            "|  1.0|       1.0|\n",
            "|  1.0|       1.0|\n",
            "|  0.0|       1.0|\n",
            "+-----+----------+\n",
            "only showing top 10 rows\n",
            "\n"
          ]
        }
      ]
    },
    {
      "cell_type": "markdown",
      "source": [
        "Evaluate the model. by using many evaluator Confusion Matrix accuracy preciesion recall f1"
      ],
      "metadata": {
        "id": "fJHxYDwt6LqT"
      }
    },
    {
      "cell_type": "code",
      "source": [
        "confusion_matrix = lr_predictions_test.groupBy(\"label\", \"prediction\").count()\n",
        "confusion_matrix.show()"
      ],
      "metadata": {
        "colab": {
          "base_uri": "https://localhost:8080/"
        },
        "id": "X_GEpVRM6Mev",
        "outputId": "105cb08a-22d7-4c46-9719-aa2b7a6c3cdd"
      },
      "execution_count": 171,
      "outputs": [
        {
          "output_type": "stream",
          "name": "stdout",
          "text": [
            "+-----+----------+-----+\n",
            "|label|prediction|count|\n",
            "+-----+----------+-----+\n",
            "|  1.0|       1.0|   43|\n",
            "|  0.0|       1.0|    8|\n",
            "|  1.0|       0.0|    3|\n",
            "|  0.0|       0.0|    4|\n",
            "+-----+----------+-----+\n",
            "\n"
          ]
        }
      ]
    },
    {
      "cell_type": "code",
      "source": [
        "cm_pandas = confusion_matrix.toPandas()\n",
        "cm_pandas.pivot(index = 'label', columns = 'prediction', values = 'count')"
      ],
      "metadata": {
        "colab": {
          "base_uri": "https://localhost:8080/",
          "height": 143
        },
        "id": "8cN9kMdg6PfK",
        "outputId": "e56b7ce6-be90-4d1f-c3d8-7e0c05d56a48"
      },
      "execution_count": 172,
      "outputs": [
        {
          "output_type": "execute_result",
          "data": {
            "text/plain": [
              "prediction  0.0  1.0\n",
              "label               \n",
              "0.0           4    8\n",
              "1.0           3   43"
            ],
            "text/html": [
              "\n",
              "  <div id=\"df-f1f7d40e-24cf-4157-9e83-69a884423446\" class=\"colab-df-container\">\n",
              "    <div>\n",
              "<style scoped>\n",
              "    .dataframe tbody tr th:only-of-type {\n",
              "        vertical-align: middle;\n",
              "    }\n",
              "\n",
              "    .dataframe tbody tr th {\n",
              "        vertical-align: top;\n",
              "    }\n",
              "\n",
              "    .dataframe thead th {\n",
              "        text-align: right;\n",
              "    }\n",
              "</style>\n",
              "<table border=\"1\" class=\"dataframe\">\n",
              "  <thead>\n",
              "    <tr style=\"text-align: right;\">\n",
              "      <th>prediction</th>\n",
              "      <th>0.0</th>\n",
              "      <th>1.0</th>\n",
              "    </tr>\n",
              "    <tr>\n",
              "      <th>label</th>\n",
              "      <th></th>\n",
              "      <th></th>\n",
              "    </tr>\n",
              "  </thead>\n",
              "  <tbody>\n",
              "    <tr>\n",
              "      <th>0.0</th>\n",
              "      <td>4</td>\n",
              "      <td>8</td>\n",
              "    </tr>\n",
              "    <tr>\n",
              "      <th>1.0</th>\n",
              "      <td>3</td>\n",
              "      <td>43</td>\n",
              "    </tr>\n",
              "  </tbody>\n",
              "</table>\n",
              "</div>\n",
              "    <div class=\"colab-df-buttons\">\n",
              "\n",
              "  <div class=\"colab-df-container\">\n",
              "    <button class=\"colab-df-convert\" onclick=\"convertToInteractive('df-f1f7d40e-24cf-4157-9e83-69a884423446')\"\n",
              "            title=\"Convert this dataframe to an interactive table.\"\n",
              "            style=\"display:none;\">\n",
              "\n",
              "  <svg xmlns=\"http://www.w3.org/2000/svg\" height=\"24px\" viewBox=\"0 -960 960 960\">\n",
              "    <path d=\"M120-120v-720h720v720H120Zm60-500h600v-160H180v160Zm220 220h160v-160H400v160Zm0 220h160v-160H400v160ZM180-400h160v-160H180v160Zm440 0h160v-160H620v160ZM180-180h160v-160H180v160Zm440 0h160v-160H620v160Z\"/>\n",
              "  </svg>\n",
              "    </button>\n",
              "\n",
              "  <style>\n",
              "    .colab-df-container {\n",
              "      display:flex;\n",
              "      gap: 12px;\n",
              "    }\n",
              "\n",
              "    .colab-df-convert {\n",
              "      background-color: #E8F0FE;\n",
              "      border: none;\n",
              "      border-radius: 50%;\n",
              "      cursor: pointer;\n",
              "      display: none;\n",
              "      fill: #1967D2;\n",
              "      height: 32px;\n",
              "      padding: 0 0 0 0;\n",
              "      width: 32px;\n",
              "    }\n",
              "\n",
              "    .colab-df-convert:hover {\n",
              "      background-color: #E2EBFA;\n",
              "      box-shadow: 0px 1px 2px rgba(60, 64, 67, 0.3), 0px 1px 3px 1px rgba(60, 64, 67, 0.15);\n",
              "      fill: #174EA6;\n",
              "    }\n",
              "\n",
              "    .colab-df-buttons div {\n",
              "      margin-bottom: 4px;\n",
              "    }\n",
              "\n",
              "    [theme=dark] .colab-df-convert {\n",
              "      background-color: #3B4455;\n",
              "      fill: #D2E3FC;\n",
              "    }\n",
              "\n",
              "    [theme=dark] .colab-df-convert:hover {\n",
              "      background-color: #434B5C;\n",
              "      box-shadow: 0px 1px 3px 1px rgba(0, 0, 0, 0.15);\n",
              "      filter: drop-shadow(0px 1px 2px rgba(0, 0, 0, 0.3));\n",
              "      fill: #FFFFFF;\n",
              "    }\n",
              "  </style>\n",
              "\n",
              "    <script>\n",
              "      const buttonEl =\n",
              "        document.querySelector('#df-f1f7d40e-24cf-4157-9e83-69a884423446 button.colab-df-convert');\n",
              "      buttonEl.style.display =\n",
              "        google.colab.kernel.accessAllowed ? 'block' : 'none';\n",
              "\n",
              "      async function convertToInteractive(key) {\n",
              "        const element = document.querySelector('#df-f1f7d40e-24cf-4157-9e83-69a884423446');\n",
              "        const dataTable =\n",
              "          await google.colab.kernel.invokeFunction('convertToInteractive',\n",
              "                                                    [key], {});\n",
              "        if (!dataTable) return;\n",
              "\n",
              "        const docLinkHtml = 'Like what you see? Visit the ' +\n",
              "          '<a target=\"_blank\" href=https://colab.research.google.com/notebooks/data_table.ipynb>data table notebook</a>'\n",
              "          + ' to learn more about interactive tables.';\n",
              "        element.innerHTML = '';\n",
              "        dataTable['output_type'] = 'display_data';\n",
              "        await google.colab.output.renderOutput(dataTable, element);\n",
              "        const docLink = document.createElement('div');\n",
              "        docLink.innerHTML = docLinkHtml;\n",
              "        element.appendChild(docLink);\n",
              "      }\n",
              "    </script>\n",
              "  </div>\n",
              "\n",
              "\n",
              "<div id=\"df-917c2154-dfc2-47bd-a722-e517f9826d18\">\n",
              "  <button class=\"colab-df-quickchart\" onclick=\"quickchart('df-917c2154-dfc2-47bd-a722-e517f9826d18')\"\n",
              "            title=\"Suggest charts\"\n",
              "            style=\"display:none;\">\n",
              "\n",
              "<svg xmlns=\"http://www.w3.org/2000/svg\" height=\"24px\"viewBox=\"0 0 24 24\"\n",
              "     width=\"24px\">\n",
              "    <g>\n",
              "        <path d=\"M19 3H5c-1.1 0-2 .9-2 2v14c0 1.1.9 2 2 2h14c1.1 0 2-.9 2-2V5c0-1.1-.9-2-2-2zM9 17H7v-7h2v7zm4 0h-2V7h2v10zm4 0h-2v-4h2v4z\"/>\n",
              "    </g>\n",
              "</svg>\n",
              "  </button>\n",
              "\n",
              "<style>\n",
              "  .colab-df-quickchart {\n",
              "      --bg-color: #E8F0FE;\n",
              "      --fill-color: #1967D2;\n",
              "      --hover-bg-color: #E2EBFA;\n",
              "      --hover-fill-color: #174EA6;\n",
              "      --disabled-fill-color: #AAA;\n",
              "      --disabled-bg-color: #DDD;\n",
              "  }\n",
              "\n",
              "  [theme=dark] .colab-df-quickchart {\n",
              "      --bg-color: #3B4455;\n",
              "      --fill-color: #D2E3FC;\n",
              "      --hover-bg-color: #434B5C;\n",
              "      --hover-fill-color: #FFFFFF;\n",
              "      --disabled-bg-color: #3B4455;\n",
              "      --disabled-fill-color: #666;\n",
              "  }\n",
              "\n",
              "  .colab-df-quickchart {\n",
              "    background-color: var(--bg-color);\n",
              "    border: none;\n",
              "    border-radius: 50%;\n",
              "    cursor: pointer;\n",
              "    display: none;\n",
              "    fill: var(--fill-color);\n",
              "    height: 32px;\n",
              "    padding: 0;\n",
              "    width: 32px;\n",
              "  }\n",
              "\n",
              "  .colab-df-quickchart:hover {\n",
              "    background-color: var(--hover-bg-color);\n",
              "    box-shadow: 0 1px 2px rgba(60, 64, 67, 0.3), 0 1px 3px 1px rgba(60, 64, 67, 0.15);\n",
              "    fill: var(--button-hover-fill-color);\n",
              "  }\n",
              "\n",
              "  .colab-df-quickchart-complete:disabled,\n",
              "  .colab-df-quickchart-complete:disabled:hover {\n",
              "    background-color: var(--disabled-bg-color);\n",
              "    fill: var(--disabled-fill-color);\n",
              "    box-shadow: none;\n",
              "  }\n",
              "\n",
              "  .colab-df-spinner {\n",
              "    border: 2px solid var(--fill-color);\n",
              "    border-color: transparent;\n",
              "    border-bottom-color: var(--fill-color);\n",
              "    animation:\n",
              "      spin 1s steps(1) infinite;\n",
              "  }\n",
              "\n",
              "  @keyframes spin {\n",
              "    0% {\n",
              "      border-color: transparent;\n",
              "      border-bottom-color: var(--fill-color);\n",
              "      border-left-color: var(--fill-color);\n",
              "    }\n",
              "    20% {\n",
              "      border-color: transparent;\n",
              "      border-left-color: var(--fill-color);\n",
              "      border-top-color: var(--fill-color);\n",
              "    }\n",
              "    30% {\n",
              "      border-color: transparent;\n",
              "      border-left-color: var(--fill-color);\n",
              "      border-top-color: var(--fill-color);\n",
              "      border-right-color: var(--fill-color);\n",
              "    }\n",
              "    40% {\n",
              "      border-color: transparent;\n",
              "      border-right-color: var(--fill-color);\n",
              "      border-top-color: var(--fill-color);\n",
              "    }\n",
              "    60% {\n",
              "      border-color: transparent;\n",
              "      border-right-color: var(--fill-color);\n",
              "    }\n",
              "    80% {\n",
              "      border-color: transparent;\n",
              "      border-right-color: var(--fill-color);\n",
              "      border-bottom-color: var(--fill-color);\n",
              "    }\n",
              "    90% {\n",
              "      border-color: transparent;\n",
              "      border-bottom-color: var(--fill-color);\n",
              "    }\n",
              "  }\n",
              "</style>\n",
              "\n",
              "  <script>\n",
              "    async function quickchart(key) {\n",
              "      const quickchartButtonEl =\n",
              "        document.querySelector('#' + key + ' button');\n",
              "      quickchartButtonEl.disabled = true;  // To prevent multiple clicks.\n",
              "      quickchartButtonEl.classList.add('colab-df-spinner');\n",
              "      try {\n",
              "        const charts = await google.colab.kernel.invokeFunction(\n",
              "            'suggestCharts', [key], {});\n",
              "      } catch (error) {\n",
              "        console.error('Error during call to suggestCharts:', error);\n",
              "      }\n",
              "      quickchartButtonEl.classList.remove('colab-df-spinner');\n",
              "      quickchartButtonEl.classList.add('colab-df-quickchart-complete');\n",
              "    }\n",
              "    (() => {\n",
              "      let quickchartButtonEl =\n",
              "        document.querySelector('#df-917c2154-dfc2-47bd-a722-e517f9826d18 button');\n",
              "      quickchartButtonEl.style.display =\n",
              "        google.colab.kernel.accessAllowed ? 'block' : 'none';\n",
              "    })();\n",
              "  </script>\n",
              "</div>\n",
              "    </div>\n",
              "  </div>\n"
            ],
            "application/vnd.google.colaboratory.intrinsic+json": {
              "type": "dataframe",
              "summary": "{\n  \"name\": \"cm_pandas\",\n  \"rows\": 2,\n  \"fields\": [\n    {\n      \"column\": \"label\",\n      \"properties\": {\n        \"dtype\": \"number\",\n        \"std\": 0.7071067811865476,\n        \"min\": 0.0,\n        \"max\": 1.0,\n        \"num_unique_values\": 2,\n        \"samples\": [\n          1.0,\n          0.0\n        ],\n        \"semantic_type\": \"\",\n        \"description\": \"\"\n      }\n    },\n    {\n      \"column\": 0.0,\n      \"properties\": {\n        \"dtype\": \"number\",\n        \"std\": 0,\n        \"min\": 3,\n        \"max\": 4,\n        \"num_unique_values\": 2,\n        \"samples\": [\n          3,\n          4\n        ],\n        \"semantic_type\": \"\",\n        \"description\": \"\"\n      }\n    },\n    {\n      \"column\": 1.0,\n      \"properties\": {\n        \"dtype\": \"number\",\n        \"std\": 24,\n        \"min\": 8,\n        \"max\": 43,\n        \"num_unique_values\": 2,\n        \"samples\": [\n          43,\n          8\n        ],\n        \"semantic_type\": \"\",\n        \"description\": \"\"\n      }\n    }\n  ]\n}"
            }
          },
          "metadata": {},
          "execution_count": 172
        }
      ]
    },
    {
      "cell_type": "code",
      "source": [
        "tp = lr_predictions_test[(lr_predictions_test.label == 1) & (lr_predictions_test.prediction == 1)].count()\n",
        "fp = lr_predictions_test[(lr_predictions_test.label == 0) & (lr_predictions_test.prediction == 1)].count()\n",
        "fn = lr_predictions_test[(lr_predictions_test.label == 1) & (lr_predictions_test.prediction == 0)].count()\n",
        "tn = lr_predictions_test[(lr_predictions_test.label == 0) & (lr_predictions_test.prediction == 0)].count()"
      ],
      "metadata": {
        "id": "zB9mteGcNIf7"
      },
      "execution_count": 188,
      "outputs": []
    },
    {
      "cell_type": "code",
      "source": [
        "accuracy = (tp + tn) / (tp + fp + fn + tn)\n",
        "precision = tp / (tp + fp)\n",
        "recall = tp / (tp + fn)\n",
        "f1 = 2 * (precision * recall) / (precision + recall)\n",
        "\n",
        "print('accuracy: ', round(accuracy, 4) * 100)\n",
        "print('precision: ', round(precision, 4) * 100)\n",
        "print('recall: ', round(recall, 4) * 100)\n",
        "print('f1 score: ', round(f1, 4) * 100)"
      ],
      "metadata": {
        "id": "JZtObamWNMUr",
        "colab": {
          "base_uri": "https://localhost:8080/"
        },
        "outputId": "7706196c-19ab-4ae0-aa58-5e82bdf70275"
      },
      "execution_count": 189,
      "outputs": [
        {
          "output_type": "stream",
          "name": "stdout",
          "text": [
            "accuracy:  81.03\n",
            "precision:  84.31\n",
            "recall:  93.47999999999999\n",
            "f1 score:  88.66000000000001\n"
          ]
        }
      ]
    },
    {
      "cell_type": "markdown",
      "source": [
        "---\n",
        "# **Task 3 - Model Parameter Tuning (20 marks)**\n",
        "---\n"
      ],
      "metadata": {
        "id": "jBh-tqvEHmIa"
      }
    },
    {
      "cell_type": "markdown",
      "source": [
        "# Student 1"
      ],
      "metadata": {
        "id": "CWq2mEMG6dbu"
      }
    },
    {
      "cell_type": "markdown",
      "source": [
        "**1.Hyperparameter Tunning:Grid Search** : paramGrid,cross-validation"
      ],
      "metadata": {
        "id": "Lpumz6BLJved"
      }
    },
    {
      "cell_type": "code",
      "source": [
        "paramGrid = ParamGridBuilder() \\\n",
        "    .addGrid(linear_reg.regParam, [0.01, 0.1, 0.25, 0.5, 1.0]) \\\n",
        "    .addGrid(linear_reg.elasticNetParam, [0.0, 0.5, 1.0]) \\\n",
        "    .build()\n",
        "\n",
        "evaluator = RegressionEvaluator(predictionCol=\"prediction\", labelCol=\"mortality_final\", metricName=\"mse\")\n",
        "\n",
        "crossval = CrossValidator(estimator=linear_reg,\n",
        "                          estimatorParamMaps=paramGrid,\n",
        "                          evaluator=evaluator,\n",
        "                          numFolds=3)\n",
        "model = crossval.fit(train_data)\n",
        "best_model = model.bestModel\n",
        "grid_predictions = best_model.transform(test_data)\n",
        "mse_grid = evaluator.evaluate(grid_predictions)"
      ],
      "metadata": {
        "id": "mhLRVi66Hmdo"
      },
      "execution_count": 117,
      "outputs": []
    },
    {
      "cell_type": "markdown",
      "source": [
        "**2.Hyperparameter Tunning: Random Search**"
      ],
      "metadata": {
        "id": "cGZz7LbZQFe6"
      }
    },
    {
      "cell_type": "code",
      "source": [
        "num_random_search = 10\n",
        "random_predictions=None\n",
        "mse_random = float(\"inf\")\n",
        "\n",
        "for i in range(num_random_search):\n",
        "    reg_param = random.choice([0.01, 0.1, 0.25, 0.5, 1.0])\n",
        "    elastic_net_param = random.choice([0.0, 0.5, 1.0])\n",
        "    random_lr = LinearRegression(labelCol = 'mortality_final', featuresCol = 'scaled_value', predictionCol = 'prediction',regParam=reg_param, elasticNetParam=elastic_net_param)\n",
        "    model = random_lr.fit(train_data)\n",
        "\n",
        "    predictions = model.transform(test_data)\n",
        "    eval_metric = evaluator.evaluate(predictions)\n",
        "\n",
        "    if eval_metric < mse_random:\n",
        "        mse_random = eval_metric\n",
        "        random_predictions = predictions"
      ],
      "metadata": {
        "id": "_rpP0iv_JWUa"
      },
      "execution_count": 119,
      "outputs": []
    },
    {
      "cell_type": "markdown",
      "source": [
        "Among Grid Search and Random Search hyperparameter tuning, minimun value of mse taken"
      ],
      "metadata": {
        "id": "4FDdZNH05idz"
      }
    },
    {
      "cell_type": "code",
      "source": [
        "print(\"Random search r2 value:\",mse_random)\n",
        "print(\"Grid search r2 value:\",mse_grid)"
      ],
      "metadata": {
        "colab": {
          "base_uri": "https://localhost:8080/"
        },
        "id": "HoGlEu2e5e8R",
        "outputId": "87eb03d5-62bd-43d6-f712-82fd0e70b9cf"
      },
      "execution_count": 124,
      "outputs": [
        {
          "output_type": "stream",
          "name": "stdout",
          "text": [
            "Random search r2 value: 0.005809745283528537\n",
            "Grid search r2 value: 0.006475187176412506\n"
          ]
        }
      ]
    },
    {
      "cell_type": "markdown",
      "source": [
        "Random search mse value is less, best among hyperparameter tuning."
      ],
      "metadata": {
        "id": "mP2RzTHACLqu"
      }
    },
    {
      "cell_type": "code",
      "source": [
        "print('Best Model for hyperparameter tuning is ',mse_random)"
      ],
      "metadata": {
        "colab": {
          "base_uri": "https://localhost:8080/"
        },
        "id": "RKq5rktQv5s3",
        "outputId": "454e7a0d-6a7d-4dc6-b5b9-7bde146de75c"
      },
      "execution_count": 125,
      "outputs": [
        {
          "output_type": "stream",
          "name": "stdout",
          "text": [
            "Best Model for hyperparameter tuning is  0.005809745283528537\n"
          ]
        }
      ]
    },
    {
      "cell_type": "markdown",
      "source": [
        "# Student 2"
      ],
      "metadata": {
        "id": "a1Ojqzqe6jRv"
      }
    },
    {
      "cell_type": "code",
      "source": [
        "# Load your data into a Spark DataFrame\n",
        "from pyspark.ml.tuning import ParamGridBuilder, CrossValidator\n",
        "from pyspark.ml import Pipeline\n",
        "from pyspark.ml.evaluation import BinaryClassificationEvaluator\n",
        "\n",
        "# Define the Logistic Regression model\n",
        "lr = LogisticRegression(labelCol=\"label\", featuresCol=\"features\")\n",
        "\n",
        "# Define the parameter grid for hyperparameter tuning\n",
        "paramGrid = ParamGridBuilder() \\\n",
        "    .addGrid(lr.regParam, [0.01, 0.1, 1.0]) \\\n",
        "    .addGrid(lr.threshold, [0.4, 0.5, 0.6]) \\\n",
        "    .build()\n",
        "\n",
        "# Define the evaluator for binary classification\n",
        "evaluator = BinaryClassificationEvaluator(metricName=\"accuracy\")\n",
        "\n",
        "# Create the pipeline combining feature processing and LogisticRegression\n",
        "pipeline = Pipeline(stages=[lr])\n",
        "\n",
        "# Define CrossValidator with 5-fold cross-validation\n",
        "crossval = CrossValidator(estimator=pipeline,\n",
        "                          estimatorParamMaps=paramGrid,\n",
        "                          evaluator=BinaryClassificationEvaluator(),\n",
        "                          numFolds=5)\n",
        "\n",
        "# Fit the model with cross-validation\n",
        "model = crossval.fit(train_data)\n",
        "\n",
        "# Print the best model with its parameters\n",
        "bestModel = model.bestModel\n",
        "print(f\"Best Model: {bestModel}\")\n",
        "# Use the bestModel for prediction on new data\n"
      ],
      "metadata": {
        "colab": {
          "base_uri": "https://localhost:8080/"
        },
        "id": "GfL1x_5x6nlX",
        "outputId": "005e974a-58d4-41ac-d38e-e1bfc4ad6f1e"
      },
      "execution_count": 175,
      "outputs": [
        {
          "output_type": "stream",
          "name": "stdout",
          "text": [
            "Best Model: PipelineModel_725ea6824bcf\n"
          ]
        }
      ]
    },
    {
      "cell_type": "code",
      "source": [
        "# Train the model\n",
        "#cvModel = crossval.fit(train_data)\n",
        "\n",
        "# Make predictions on test data\n",
        "binary_predictions = bestModel.transform(test_data)\n",
        "\n",
        "# Evaluate the model\n",
        "evaluator = BinaryClassificationEvaluator()\n",
        "accuracy = evaluator.evaluate(binary_predictions)\n",
        "\n",
        "print('accuracy: ', round(accuracy, 4) * 100)"
      ],
      "metadata": {
        "colab": {
          "base_uri": "https://localhost:8080/"
        },
        "id": "wvhqxyyE6rM9",
        "outputId": "33820511-66fe-441b-896a-9ea3a311d50a"
      },
      "execution_count": 178,
      "outputs": [
        {
          "output_type": "stream",
          "name": "stdout",
          "text": [
            "accuracy:  79.53\n"
          ]
        }
      ]
    },
    {
      "cell_type": "markdown",
      "source": [
        "---\n",
        "# **Task 4 - Model Evaluation and Accuracy Calculation (20 marks)**\n",
        "---"
      ],
      "metadata": {
        "id": "Np9gJPEIHwbG"
      }
    },
    {
      "cell_type": "markdown",
      "source": [
        "# Student 1"
      ],
      "metadata": {
        "id": "_Mb9wPcr61yC"
      }
    },
    {
      "cell_type": "markdown",
      "source": [
        "Lasso and Ridge regularization as Model Evaluation"
      ],
      "metadata": {
        "id": "FfpR3o7D8Y0k"
      }
    },
    {
      "cell_type": "code",
      "source": [
        "evaluator_mse = RegressionEvaluator(labelCol = 'mortality_final', predictionCol = 'prediction', metricName = 'mse')\n",
        "evaluator_rmse = RegressionEvaluator(labelCol = 'mortality_final', predictionCol = 'prediction', metricName = 'rmse')\n",
        "evaluator_r2 = RegressionEvaluator(labelCol = 'mortality_final', predictionCol = 'prediction', metricName = 'r2')\n",
        "mse = evaluator_mse.evaluate(random_predictions)\n",
        "r2_score = evaluator_r2.evaluate(random_predictions)\n",
        "rmse = evaluator_rmse.evaluate(random_predictions)"
      ],
      "metadata": {
        "id": "FCVAx1VsHws-"
      },
      "execution_count": 126,
      "outputs": []
    },
    {
      "cell_type": "code",
      "source": [
        "# Laaso\n",
        "lasso = LinearRegression(labelCol = 'mortality_final', featuresCol = 'scaled_value', predictionCol = 'prediction', elasticNetParam = 1.0, regParam = 0.15)\n",
        "lasso_model = lasso.fit(train_data)\n",
        "lasso_predictions = lasso_model.transform(test_data)\n",
        "\n",
        "mse1 = evaluator_mse.evaluate(lasso_predictions)\n",
        "rmse1 = evaluator_rmse.evaluate(lasso_predictions)\n",
        "r2_score1 = evaluator_r2.evaluate(lasso_predictions)"
      ],
      "metadata": {
        "id": "QnAqOp5DJMNd"
      },
      "execution_count": 127,
      "outputs": []
    },
    {
      "cell_type": "code",
      "source": [
        "# Ridge\n",
        "ridge = LinearRegression(labelCol = 'mortality_final', featuresCol = 'scaled_value', predictionCol = 'prediction', elasticNetParam = 0.0, regParam = 0.15)\n",
        "ridge_model = ridge.fit(train_data)\n",
        "ridge_predictions = ridge_model.transform(test_data)\n",
        "\n",
        "mse2 = evaluator_mse.evaluate(ridge_predictions)\n",
        "rmse2 = evaluator_rmse.evaluate(ridge_predictions)\n",
        "r2_score2 = evaluator_r2.evaluate(ridge_predictions)"
      ],
      "metadata": {
        "id": "wJAauyT08W1x"
      },
      "execution_count": 128,
      "outputs": []
    },
    {
      "cell_type": "markdown",
      "source": [
        "# Student 2"
      ],
      "metadata": {
        "id": "G4rf0or566rK"
      }
    },
    {
      "cell_type": "code",
      "source": [
        "tp = binary_predictions[(binary_predictions.label == 1) & (binary_predictions.prediction == 1)].count()\n",
        "fp = binary_predictions[(binary_predictions.label == 0) & (binary_predictions.prediction == 1)].count()\n",
        "fn = binary_predictions[(binary_predictions.label == 1) & (binary_predictions.prediction == 0)].count()\n",
        "tn = binary_predictions[(binary_predictions.label == 0) & (binary_predictions.prediction == 0)].count()"
      ],
      "metadata": {
        "id": "-27opEls69bP"
      },
      "execution_count": 179,
      "outputs": []
    },
    {
      "cell_type": "code",
      "source": [
        "accuracy1 = (tp + tn) / (tp + fp + fn + tn)\n",
        "precision1 = tp / (tp + fp)\n",
        "recall1 = tp / (tp + fn)\n",
        "f11 = 2 * (precision * recall) / (precision + recall)\n",
        "\n",
        "print('accuracy1: ', round(accuracy1, 4) * 100)\n",
        "print('precision1: ', round(precision1, 4) * 100)\n",
        "print('recall1: ', round(recall1, 4) * 100)\n",
        "print('f1 score1: ', round(f11, 4) * 100)"
      ],
      "metadata": {
        "colab": {
          "base_uri": "https://localhost:8080/"
        },
        "id": "K-vlO1G36-0w",
        "outputId": "c26fe899-60c8-4c30-bd48-768f363f2e3c"
      },
      "execution_count": 184,
      "outputs": [
        {
          "output_type": "stream",
          "name": "stdout",
          "text": [
            "accuracy1:  79.31\n",
            "precision1:  80.36\n",
            "recall1:  97.83\n",
            "f1 score1:  88.24\n"
          ]
        }
      ]
    },
    {
      "cell_type": "markdown",
      "source": [
        "---\n",
        "# **Task 5 - Results Visualization or Printing (5 marks)**\n",
        "---"
      ],
      "metadata": {
        "id": "dsERZv2WIB1H"
      }
    },
    {
      "cell_type": "markdown",
      "source": [
        "# Student 1"
      ],
      "metadata": {
        "id": "TU6zQQ317K_M"
      }
    },
    {
      "cell_type": "code",
      "source": [
        "mse_value = [mse, mse1, mse2]\n",
        "rmse_value = [rmse, rmse1, rmse2]\n",
        "r2_score_value = [r2_score, r2_score1, r2_score2]\n",
        "\n",
        "print(mse_value)\n",
        "print(rmse_value)\n",
        "print(r2_score_value)\n",
        "\n",
        "positions = np.arange(len(mse_value))\n",
        "bar_width = 0.2\n",
        "\n",
        "plt.bar(positions - bar_width, mse_value, width = bar_width, label = 'MSE')\n",
        "plt.bar(positions, rmse_value, width = bar_width, label = 'RMSE')\n",
        "#plt.bar(positions + bar_width, r2_score_value, width = bar_width, label = 'R2_Score')\n",
        "\n",
        "# adding labels and title\n",
        "plt.xlabel('Model')\n",
        "plt.ylabel('Scores')\n",
        "plt.title('Comparison of Regression Metrics')\n",
        "\n",
        "# adding the legend\n",
        "plt.legend()\n",
        "plt.xticks(positions, ['Regression', 'Lasso', 'Ridge'])\n",
        "plt.show()"
      ],
      "metadata": {
        "colab": {
          "base_uri": "https://localhost:8080/",
          "height": 524
        },
        "id": "Zy6pKNUnhXKg",
        "outputId": "d56497b5-cca4-43cf-b44a-48fbdd8eb60f"
      },
      "execution_count": 132,
      "outputs": [
        {
          "output_type": "stream",
          "name": "stdout",
          "text": [
            "[0.005809745283528537, 0.005959161219921375, 0.006915221361780065]\n",
            "[0.07622168512653428, 0.0771956036307857, 0.08315780998667573]\n",
            "[-0.21424556841911113, -0.24547372555201807, -0.44529174402614236]\n"
          ]
        },
        {
          "output_type": "display_data",
          "data": {
            "text/plain": [
              "<Figure size 640x480 with 1 Axes>"
            ],
            "image/png": "[encoded data removed]"
          },
          "metadata": {}
        }
      ]
    },
    {
      "cell_type": "code",
      "source": [
        "# Access the coefficients and intecept of the model\n",
        "coefficients = linear_model.coefficients\n",
        "intercept = linear_model.intercept\n",
        "\n",
        "print(coefficients)\n",
        "print(intercept)"
      ],
      "metadata": {
        "colab": {
          "base_uri": "https://localhost:8080/"
        },
        "id": "DuSunX5Jw0Mn",
        "outputId": "4020c4ce-aa8f-4f45-dbba-fd88e0d73dfb"
      },
      "execution_count": 133,
      "outputs": [
        {
          "output_type": "stream",
          "name": "stdout",
          "text": [
            "[-0.23258832555964834,-0.12734960799740894,0.14167961610580213,0.23617172626594518,0.7037010554457026,0.0065004168776191746,-0.37146863400517716,0.7565199697133113,-1.124431296380997,-0.003643224453705067]\n",
            "0.14896348019505248\n"
          ]
        }
      ]
    },
    {
      "cell_type": "markdown",
      "source": [
        "Scatter plot analysis of real and predicted value"
      ],
      "metadata": {
        "id": "LETGt_4Zx8uX"
      }
    },
    {
      "cell_type": "code",
      "source": [
        "#Scatter plot analysis\n",
        "fig, ax = plt.subplots()\n",
        "min = random_predictions.selectExpr(\"min(prediction)\").collect()[0][0]\n",
        "max = random_predictions.selectExpr(\"max(prediction)\").collect()[0][0]\n",
        "plot_range = [min, max]\n",
        "ax.set_title(\"Model performance\")\n",
        "ax.set_ylabel(\"Pred value\")\n",
        "ax.set_xlabel(\"Real value\")\n",
        "ax.scatter(random_predictions.select(col(\"mortality_final\")).collect(), random_predictions.select(col('prediction')).collect(), s=4)\n",
        "ax.plot(plot_range, plot_range, c=\"red\")\n",
        "plt.show()"
      ],
      "metadata": {
        "id": "j04CcL30ILx_",
        "colab": {
          "base_uri": "https://localhost:8080/",
          "height": 472
        },
        "outputId": "564d9a4b-5de1-42c4-9be3-2a503d3a0f0c"
      },
      "execution_count": 138,
      "outputs": [
        {
          "output_type": "display_data",
          "data": {
            "text/plain": [
              "<Figure size 640x480 with 1 Axes>"
            ],
            "image/png": "[encoded data removed]"
          },
          "metadata": {}
        }
      ]
    },
    {
      "cell_type": "markdown",
      "source": [
        " **Insights and Analysis based on the results:**\n",
        "\n",
        " Hyperparameter Tuning  used as control aspects of learning process. For regression, grid search and random search used based on regularization parameter and elastic net parameter. Based on mean sqaured error, random search parameter gives best fit. As per model evaluation, Lasso and Ridge regularization method was considered and compared with mse and rmse value. Overall, while the linear regression model performs slightly better than the Lasso and Ridge regression models in terms of MSE and RMSE, none of the models provide a good fit to the data based on the negative R2 values. This mainly occur due to null values present in most of the indicators values. When most of the row was dropped due to null value, less data is available for traning and validation."
      ],
      "metadata": {
        "id": "Y3y5JfcsNgz8"
      }
    },
    {
      "cell_type": "markdown",
      "source": [
        "# Student 2"
      ],
      "metadata": {
        "id": "4DJ0HKVm7YDf"
      }
    },
    {
      "cell_type": "code",
      "source": [
        "##2nd student name:Samar\n",
        "#print result\n",
        "print('accuracy: ', round(accuracy, 4) * 100)\n",
        "print('precision: ', round(precision, 4) * 100)\n",
        "print('recall: ', round(recall, 4) * 100)\n",
        "print('f1 score: ', round(f1, 4) * 100)"
      ],
      "metadata": {
        "colab": {
          "base_uri": "https://localhost:8080/"
        },
        "id": "AV5-B0k-7azR",
        "outputId": "fe326d2c-fca1-4266-cc97-bbb124cffd82"
      },
      "execution_count": 190,
      "outputs": [
        {
          "output_type": "stream",
          "name": "stdout",
          "text": [
            "accuracy:  81.03\n",
            "precision:  84.31\n",
            "recall:  93.47999999999999\n",
            "f1 score:  88.66000000000001\n"
          ]
        }
      ]
    },
    {
      "cell_type": "code",
      "source": [
        "import matplotlib.pyplot as plt\n",
        "fig, ax = plt.subplots()\n",
        "Metrix = ['accuracy', 'precision', 'recall', 'f1']\n",
        "Value= [accuracy, precision, recall, f1]\n",
        "bar_labels = ['red', 'blue', '_red', 'orange']\n",
        "bar_colors = ['tab:red', 'tab:blue', 'tab:red', 'tab:orange']\n",
        "\n",
        "ax.bar(Metrix, Value, label=bar_labels, color=bar_colors)\n",
        "\n",
        "ax.set_ylabel('Value ')\n",
        "ax.set_title('Matrix')\n",
        "ax.legend(title='Evaluator Matrix')\n",
        "\n",
        "plt.show()"
      ],
      "metadata": {
        "colab": {
          "base_uri": "https://localhost:8080/",
          "height": 452
        },
        "id": "kPz6u5cI7dvw",
        "outputId": "27e30975-6092-4991-a49c-a09dab9c7b10"
      },
      "execution_count": 192,
      "outputs": [
        {
          "output_type": "display_data",
          "data": {
            "text/plain": [
              "<Figure size 640x480 with 1 Axes>"
            ],
            "image/png": "[encoded data removed]"
          },
          "metadata": {}
        }
      ]
    },
    {
      "cell_type": "markdown",
      "source": [
        "**Insights and analysis based on the obtained result**\n",
        "\n",
        "\n",
        "Furthermore, the WDI dataset for cross-country comparisons naturally will face complex technical problems that cannot be resolved easily. There are also other issues relating to how relevant each data submitted by each country is suitable for international cross-country comparison. Also many countries use different data collection methodologies and techniques. There are long delays in reporting data and the use of old surveys as the basis for current estimates to compensate for missing data which obviously will affect the quality of data reported. The issue of missing data in particular resulted in the accuracy result form to be 81% although I tuned hyper parameters for Grid search.\n",
        "(Brown & Kros, 2003) argue that missing or inconsistent data has been a pervasive problem in data analysis since the origin of data collection and that the more data is collected, the higher the likelihood of missing data becomes. In the same vain, (Van Echelpoel & Goethals, 2018) also argue that data sets plagued with missing data and performance-affecting model parameters represent recurrent issues within the field of data mining.For the purpose of the coursework, I used Logistic Regression Model for Binary Classification for WDI based on income group categories. More specifically, I used two indicators: prevalence for anaemia and mortality in pregnant women. I then set a specific threshold value to classify countries as high and low income, any country falls above the threshold will be classified as low income (Class 1) which will need intervention in their healthcare system and any country appears below the threshold level will be categorised as high income (Class 0)."
      ],
      "metadata": {
        "id": "naLwQZm17kgA"
      }
    },
    {
      "cell_type": "markdown",
      "source": [
        "---\n",
        "# **Task 6 - LSEP Considerations (5 marks)**\n",
        "---"
      ],
      "metadata": {
        "id": "rIGDXqDdIQ4U"
      }
    },
    {
      "cell_type": "markdown",
      "source": [
        "# Student 1: **Social** and **Profesional** issue of using **WDI dataset**\n",
        "\n",
        "**1. Data Reliability**: Errors or inconsistencies in indicators value could compromise the veracity of the analysis's findings.\\\n",
        "**Mitigation**:Transparency and reproducibility in the results are achieved by documenting data preprocessing processes, such as the ones we established by removing null values.\n",
        "\n",
        "**2. Difficulties with Interpretation**:The complex association between infant nutrition indicators and the infant mortality rate may be oversimplified by linear regression analysis.\\\n",
        "**Mitigation:** Using other analytical methods, including non-linear models, to offer a deeper understanding of the relationship.\n",
        "\n",
        "**3. Fairness and Prejudice**: Publicly accessible datasets such as the WDI may exhibit demographic biases and disparities.\\\n",
        "**Mitigation:** Through successful community involvement, the World Bank Group Anti-Racism Charter, which was introduced (World Bank Group Anti-Racism Charter, 2021) aims to tackle racial prejudice and promote inclusion in the areas where we live and work.\n",
        "\n",
        "**4. Ethical Concerns about Infant Mortality:**  Analysing data analysis regarding infant mortality raises ethical concerns about the well-being of vulnerable people.\\\n",
        "**Mitigation:** Beneficence and Non-maleficence are serve as the foundation of ethical decision-making in healthcare, ensuring that patient safety and wellbeing come first(Ollie, 2023).\n",
        "\n",
        "**5. Privacy Issues:** It could include sensitive data about people or communities for some indicators. \\\n",
        "**Mitigation:** World Bank maintain adherence to data protection laws in order to safeguard privacy.\n",
        "\n"
      ],
      "metadata": {
        "id": "vuCxxQnYI_FP"
      }
    },
    {
      "cell_type": "markdown",
      "source": [
        "# Student 2: **Legal Issues** and discussion of the **Ethical** implication on WDI dataset\n",
        "\n",
        "A recent work by (Braunack-Mayer et al., 2023) highlights the ethical issues in using big data in the health and higher education sectors. According to the study, both sectors experience ethical challenges in the use of big data. Given the fact that, many countries across the world are using different data collection methodologies and techniques, it is very difficult and extremely challenging to understand how the WDI dataset in general is strictly following the international standards for ethical and legal issues around data collection. WDI datasets do provide clear statements regarding several ethical and legal issues with data collection relating to privacy and confidentiality of the data, what type of consents used to obtain the data and the levels of transparency in doing so by the data collectors on the ground. Also there are several ethical and legal issues around the consent for data sharing, access, control and ownership.Another issue regarding the WDI dataset when using the logistic regression analysis, is that the classification of countries as low and high income could lead to reinforcing stereotypes relating to features such as the two indicators used for this coursework: maternity mortality and prevalence of anaemia in pregnancy women. It is therefore, important to understand the situation of each country very well and avoid the general approach used in the WDI dataset and aim to mitigate the risk of oversimplification in the WDI dataset."
      ],
      "metadata": {
        "id": "AgLfrAGfJQxF"
      }
    },
    {
      "cell_type": "markdown",
      "source": [
        "# Conclusion:\n",
        "\n",
        "In conclusion, WDI dataset is extremely important and useful for various types of machine learning researches but the ethical and legal considerations must be followed as per the international guidelines and standards. Moreover, it is recommend that the researchers must read and understand fully the different methodological approached used by the World bank when compiling these various WDI datasets. In doing so, we must ensure high level of transparency, fairness and privacy to minimise any potential bias and ensuring a robust mitigating strategies in place and uphold strictly the highest standards and practices in data collection and analysis.Furthermore, as team of two undertaking this coursework using the same WDI dataset for addressing different problems, we both followed carefully a peer review process reviewing and validating each other’s work. In this way we learn and implemented different approaches towards transparency and accountability by rigorous documenting all our processes and notes during the model and data analysis.\n",
        "\n",
        "# References:\n",
        "\n",
        "1.  https://www.kaggle.com/datasets/kaggle/world-development-indicators.\n",
        "2.  World Bank. (2024).* World Development Indicators*. World Bank. https://datatopics.worldbank.org/world-development-indicators/.\n",
        "3.  Van Echelpoel, W., & Goethals, P. L. M. (2018). Variable importance for sustaining macrophyte presence via random forests: data imputation and model settings.* Scientific Reports*, 8(1).https://doi.org/10.1038/s41598-018-32966-2.\n",
        "4. Braunack-Mayer, A., Carolan, L., Street, J., Ha, T., Fabrianesi, B., & Carter, S. (2023). Ethical issues in big data: A qualitative study comparing responses in the health and higher education sectors.* PloS One*, 18(4), e0282285. https://doi.org/10.1371/journal.pone.0282285.\n",
        "5. World Bank Group Anti-Racism Charter. (2021, November 11). World Bank. https://www.worldbank.org/en/news/statement/2021/11/11/world-bank-group-anti-racism-charter.\n",
        "6. Ollie, D. (2023, July 2). Non-Maleficence In Medical Ethics. Medical School Expert. https://medicalschoolexpert.co.uk/non-maleficence-in-medical-ethics/\n"
      ],
      "metadata": {
        "id": "o_UgKWDURVWn"
      }
    },
    {
      "cell_type": "markdown",
      "metadata": {
        "id": "mIM6uLApSxi2"
      },
      "source": [
        "---\n",
        "\n",
        "# **Task 7 - Convert ipynb to HTML for Turnitin submission [5 marks]**\n",
        "\n",
        "---\n",
        "\n"
      ]
    },
    {
      "cell_type": "code",
      "metadata": {
        "id": "ZrQu11N_DCfZ",
        "colab": {
          "base_uri": "https://localhost:8080/"
        },
        "outputId": "1d1474bd-8cb0-4b0b-dc78-1e998e662467"
      },
      "source": [
        "# install nbconvert (if facing the conversion error)\n",
        "!pip3 install nbconvert"
      ],
      "execution_count": null,
      "outputs": [
        {
          "output_type": "stream",
          "name": "stdout",
          "text": [
            "Requirement already satisfied: nbconvert in /usr/local/lib/python3.10/dist-packages (6.5.4)\n",
            "Requirement already satisfied: lxml in /usr/local/lib/python3.10/dist-packages (from nbconvert) (4.9.4)\n",
            "Requirement already satisfied: beautifulsoup4 in /usr/local/lib/python3.10/dist-packages (from nbconvert) (4.12.3)\n",
            "Requirement already satisfied: bleach in /usr/local/lib/python3.10/dist-packages (from nbconvert) (6.1.0)\n",
            "Requirement already satisfied: defusedxml in /usr/local/lib/python3.10/dist-packages (from nbconvert) (0.7.1)\n",
            "Requirement already satisfied: entrypoints>=0.2.2 in /usr/local/lib/python3.10/dist-packages (from nbconvert) (0.4)\n",
            "Requirement already satisfied: jinja2>=3.0 in /usr/local/lib/python3.10/dist-packages (from nbconvert) (3.1.3)\n",
            "Requirement already satisfied: jupyter-core>=4.7 in /usr/local/lib/python3.10/dist-packages (from nbconvert) (5.7.2)\n",
            "Requirement already satisfied: jupyterlab-pygments in /usr/local/lib/python3.10/dist-packages (from nbconvert) (0.3.0)\n",
            "Requirement already satisfied: MarkupSafe>=2.0 in /usr/local/lib/python3.10/dist-packages (from nbconvert) (2.1.5)\n",
            "Requirement already satisfied: mistune<2,>=0.8.1 in /usr/local/lib/python3.10/dist-packages (from nbconvert) (0.8.4)\n",
            "Requirement already satisfied: nbclient>=0.5.0 in /usr/local/lib/python3.10/dist-packages (from nbconvert) (0.10.0)\n",
            "Requirement already satisfied: nbformat>=5.1 in /usr/local/lib/python3.10/dist-packages (from nbconvert) (5.10.4)\n",
            "Requirement already satisfied: packaging in /usr/local/lib/python3.10/dist-packages (from nbconvert) (24.0)\n",
            "Requirement already satisfied: pandocfilters>=1.4.1 in /usr/local/lib/python3.10/dist-packages (from nbconvert) (1.5.1)\n",
            "Requirement already satisfied: pygments>=2.4.1 in /usr/local/lib/python3.10/dist-packages (from nbconvert) (2.16.1)\n",
            "Requirement already satisfied: tinycss2 in /usr/local/lib/python3.10/dist-packages (from nbconvert) (1.2.1)\n",
            "Requirement already satisfied: traitlets>=5.0 in /usr/local/lib/python3.10/dist-packages (from nbconvert) (5.7.1)\n",
            "Requirement already satisfied: platformdirs>=2.5 in /usr/local/lib/python3.10/dist-packages (from jupyter-core>=4.7->nbconvert) (4.2.0)\n",
            "Requirement already satisfied: jupyter-client>=6.1.12 in /usr/local/lib/python3.10/dist-packages (from nbclient>=0.5.0->nbconvert) (6.1.12)\n",
            "Requirement already satisfied: fastjsonschema>=2.15 in /usr/local/lib/python3.10/dist-packages (from nbformat>=5.1->nbconvert) (2.19.1)\n",
            "Requirement already satisfied: jsonschema>=2.6 in /usr/local/lib/python3.10/dist-packages (from nbformat>=5.1->nbconvert) (4.19.2)\n",
            "Requirement already satisfied: soupsieve>1.2 in /usr/local/lib/python3.10/dist-packages (from beautifulsoup4->nbconvert) (2.5)\n",
            "Requirement already satisfied: six>=1.9.0 in /usr/local/lib/python3.10/dist-packages (from bleach->nbconvert) (1.16.0)\n",
            "Requirement already satisfied: webencodings in /usr/local/lib/python3.10/dist-packages (from bleach->nbconvert) (0.5.1)\n",
            "Requirement already satisfied: attrs>=22.2.0 in /usr/local/lib/python3.10/dist-packages (from jsonschema>=2.6->nbformat>=5.1->nbconvert) (23.2.0)\n",
            "Requirement already satisfied: jsonschema-specifications>=2023.03.6 in /usr/local/lib/python3.10/dist-packages (from jsonschema>=2.6->nbformat>=5.1->nbconvert) (2023.12.1)\n",
            "Requirement already satisfied: referencing>=0.28.4 in /usr/local/lib/python3.10/dist-packages (from jsonschema>=2.6->nbformat>=5.1->nbconvert) (0.34.0)\n",
            "Requirement already satisfied: rpds-py>=0.7.1 in /usr/local/lib/python3.10/dist-packages (from jsonschema>=2.6->nbformat>=5.1->nbconvert) (0.18.0)\n",
            "Requirement already satisfied: pyzmq>=13 in /usr/local/lib/python3.10/dist-packages (from jupyter-client>=6.1.12->nbclient>=0.5.0->nbconvert) (23.2.1)\n",
            "Requirement already satisfied: python-dateutil>=2.1 in /usr/local/lib/python3.10/dist-packages (from jupyter-client>=6.1.12->nbclient>=0.5.0->nbconvert) (2.8.2)\n",
            "Requirement already satisfied: tornado>=4.1 in /usr/local/lib/python3.10/dist-packages (from jupyter-client>=6.1.12->nbclient>=0.5.0->nbconvert) (6.3.3)\n"
          ]
        }
      ]
    },
    {
      "cell_type": "code",
      "metadata": {
        "id": "ReZWnCYdDH66",
        "colab": {
          "base_uri": "https://localhost:8080/"
        },
        "outputId": "c07b8610-a8f9-42ff-dd2a-042466bbaf67"
      },
      "source": [
        "# convert ipynb to html and submit this HTML file\n",
        "!jupyter nbconvert --to html \"/content/Group_16.ipynb\""
      ],
      "execution_count": null,
      "outputs": [
        {
          "output_type": "stream",
          "name": "stdout",
          "text": [
            "[NbConvertApp] Converting notebook /content/new_project.ipynb to html\n",
            "[NbConvertApp] Writing 844904 bytes to /content/new_project.html\n"
          ]
        }
      ]
    }
  ]
}